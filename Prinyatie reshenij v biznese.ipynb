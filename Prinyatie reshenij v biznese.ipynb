{
 "cells": [
  {
   "cell_type": "markdown",
   "metadata": {},
   "source": [
    "# Описание данных\n",
    "Данные для первой части\n",
    "\n",
    "Файл /datasets/hypothesis.csv. Скачать датасет\n",
    "\n",
    "* Hypothesis — краткое описание гипотезы;\n",
    "* Reach — охват пользователей по 10-балльной шкале;\n",
    "* Impact — влияние на пользователей по 10-балльной шкале;\n",
    "* Confidence — уверенность в гипотезе по 10-балльной шкале;\n",
    "* Efforts — затраты ресурсов на проверку гипотезы по 10-балльной шкале. Чем больше значение Efforts, тем дороже проверка гипотезы.\n",
    "\n",
    "Данные для второй части\n",
    "\n",
    "Файл /datasets/orders.csv. Скачать датасет\n",
    "\n",
    "* transactionId — идентификатор заказа;\n",
    "* visitorId — идентификатор пользователя, совершившего заказ;\n",
    "* date — дата, когда был совершён заказ;\n",
    "* revenue — выручка заказа;\n",
    "* group — группа A/B-теста, в которую попал заказ.\n",
    "\n",
    "Файл /datasets/visitors.csv. Скачать датасет\n",
    "\n",
    "* date — дата;\n",
    "* group — группа A/B-теста;\n",
    "* visitors — количество пользователей в указанную дату в указанной группе A/B-теста\n",
    "\n",
    "Описание проекта\n",
    "\n",
    "Контекст\n",
    "\n",
    "Вы — аналитик крупного интернет-магазина. Вместе с отделом маркетинга вы подготовили список гипотез для увеличения выручки.\n",
    "Приоритизируйте гипотезы, запустите A/B-тест и проанализируйте результаты. "
   ]
  },
  {
   "cell_type": "markdown",
   "metadata": {},
   "source": [
    "# Предобработка данных"
   ]
  },
  {
   "cell_type": "code",
   "execution_count": 1,
   "metadata": {},
   "outputs": [],
   "source": [
    "# Добавим библиотеки\n",
    "import pandas as pd\n",
    "import numpy as np\n",
    "import matplotlib.pyplot as plt\n",
    "from datetime import datetime, timedelta\n",
    "import seaborn as sns\n",
    "from pymystem3 import Mystem\n",
    "from collections import Counter\n",
    "from scipy import stats as st\n",
    "import datetime as dt"
   ]
  },
  {
   "cell_type": "code",
   "execution_count": 2,
   "metadata": {},
   "outputs": [],
   "source": [
    "hypothesis = pd.read_csv('/datasets/hypothesis.csv')\n",
    "orders = pd.read_csv('/datasets/orders.csv', sep=',')\n",
    "visitors = pd.read_csv('/datasets/visitors.csv', sep=',')       "
   ]
  },
  {
   "cell_type": "code",
   "execution_count": 3,
   "metadata": {
    "scrolled": false
   },
   "outputs": [
    {
     "data": {
      "text/html": [
       "<div>\n",
       "<style scoped>\n",
       "    .dataframe tbody tr th:only-of-type {\n",
       "        vertical-align: middle;\n",
       "    }\n",
       "\n",
       "    .dataframe tbody tr th {\n",
       "        vertical-align: top;\n",
       "    }\n",
       "\n",
       "    .dataframe thead th {\n",
       "        text-align: right;\n",
       "    }\n",
       "</style>\n",
       "<table border=\"1\" class=\"dataframe\">\n",
       "  <thead>\n",
       "    <tr style=\"text-align: right;\">\n",
       "      <th></th>\n",
       "      <th>Hypothesis</th>\n",
       "      <th>Reach</th>\n",
       "      <th>Impact</th>\n",
       "      <th>Confidence</th>\n",
       "      <th>Efforts</th>\n",
       "    </tr>\n",
       "  </thead>\n",
       "  <tbody>\n",
       "    <tr>\n",
       "      <th>0</th>\n",
       "      <td>Добавить два новых канала привлечения трафика,...</td>\n",
       "      <td>3</td>\n",
       "      <td>10</td>\n",
       "      <td>8</td>\n",
       "      <td>6</td>\n",
       "    </tr>\n",
       "    <tr>\n",
       "      <th>1</th>\n",
       "      <td>Запустить собственную службу доставки, что сок...</td>\n",
       "      <td>2</td>\n",
       "      <td>5</td>\n",
       "      <td>4</td>\n",
       "      <td>10</td>\n",
       "    </tr>\n",
       "    <tr>\n",
       "      <th>2</th>\n",
       "      <td>Добавить блоки рекомендаций товаров на сайт ин...</td>\n",
       "      <td>8</td>\n",
       "      <td>3</td>\n",
       "      <td>7</td>\n",
       "      <td>3</td>\n",
       "    </tr>\n",
       "    <tr>\n",
       "      <th>3</th>\n",
       "      <td>Изменить структура категорий, что увеличит кон...</td>\n",
       "      <td>8</td>\n",
       "      <td>3</td>\n",
       "      <td>3</td>\n",
       "      <td>8</td>\n",
       "    </tr>\n",
       "    <tr>\n",
       "      <th>4</th>\n",
       "      <td>Изменить цвет фона главной страницы, чтобы уве...</td>\n",
       "      <td>3</td>\n",
       "      <td>1</td>\n",
       "      <td>1</td>\n",
       "      <td>1</td>\n",
       "    </tr>\n",
       "  </tbody>\n",
       "</table>\n",
       "</div>"
      ],
      "text/plain": [
       "                                          Hypothesis  Reach  Impact  \\\n",
       "0  Добавить два новых канала привлечения трафика,...      3      10   \n",
       "1  Запустить собственную службу доставки, что сок...      2       5   \n",
       "2  Добавить блоки рекомендаций товаров на сайт ин...      8       3   \n",
       "3  Изменить структура категорий, что увеличит кон...      8       3   \n",
       "4  Изменить цвет фона главной страницы, чтобы уве...      3       1   \n",
       "\n",
       "   Confidence  Efforts  \n",
       "0           8        6  \n",
       "1           4       10  \n",
       "2           7        3  \n",
       "3           3        8  \n",
       "4           1        1  "
      ]
     },
     "metadata": {},
     "output_type": "display_data"
    },
    {
     "data": {
      "text/html": [
       "<div>\n",
       "<style scoped>\n",
       "    .dataframe tbody tr th:only-of-type {\n",
       "        vertical-align: middle;\n",
       "    }\n",
       "\n",
       "    .dataframe tbody tr th {\n",
       "        vertical-align: top;\n",
       "    }\n",
       "\n",
       "    .dataframe thead th {\n",
       "        text-align: right;\n",
       "    }\n",
       "</style>\n",
       "<table border=\"1\" class=\"dataframe\">\n",
       "  <thead>\n",
       "    <tr style=\"text-align: right;\">\n",
       "      <th></th>\n",
       "      <th>Reach</th>\n",
       "      <th>Impact</th>\n",
       "      <th>Confidence</th>\n",
       "      <th>Efforts</th>\n",
       "    </tr>\n",
       "  </thead>\n",
       "  <tbody>\n",
       "    <tr>\n",
       "      <th>count</th>\n",
       "      <td>9.000000</td>\n",
       "      <td>9.000000</td>\n",
       "      <td>9.000000</td>\n",
       "      <td>9.000000</td>\n",
       "    </tr>\n",
       "    <tr>\n",
       "      <th>mean</th>\n",
       "      <td>4.777778</td>\n",
       "      <td>4.777778</td>\n",
       "      <td>5.555556</td>\n",
       "      <td>4.888889</td>\n",
       "    </tr>\n",
       "    <tr>\n",
       "      <th>std</th>\n",
       "      <td>3.153481</td>\n",
       "      <td>3.192874</td>\n",
       "      <td>3.045944</td>\n",
       "      <td>2.803767</td>\n",
       "    </tr>\n",
       "    <tr>\n",
       "      <th>min</th>\n",
       "      <td>1.000000</td>\n",
       "      <td>1.000000</td>\n",
       "      <td>1.000000</td>\n",
       "      <td>1.000000</td>\n",
       "    </tr>\n",
       "    <tr>\n",
       "      <th>25%</th>\n",
       "      <td>3.000000</td>\n",
       "      <td>3.000000</td>\n",
       "      <td>3.000000</td>\n",
       "      <td>3.000000</td>\n",
       "    </tr>\n",
       "    <tr>\n",
       "      <th>50%</th>\n",
       "      <td>3.000000</td>\n",
       "      <td>3.000000</td>\n",
       "      <td>7.000000</td>\n",
       "      <td>5.000000</td>\n",
       "    </tr>\n",
       "    <tr>\n",
       "      <th>75%</th>\n",
       "      <td>8.000000</td>\n",
       "      <td>7.000000</td>\n",
       "      <td>8.000000</td>\n",
       "      <td>6.000000</td>\n",
       "    </tr>\n",
       "    <tr>\n",
       "      <th>max</th>\n",
       "      <td>10.000000</td>\n",
       "      <td>10.000000</td>\n",
       "      <td>9.000000</td>\n",
       "      <td>10.000000</td>\n",
       "    </tr>\n",
       "  </tbody>\n",
       "</table>\n",
       "</div>"
      ],
      "text/plain": [
       "           Reach     Impact  Confidence    Efforts\n",
       "count   9.000000   9.000000    9.000000   9.000000\n",
       "mean    4.777778   4.777778    5.555556   4.888889\n",
       "std     3.153481   3.192874    3.045944   2.803767\n",
       "min     1.000000   1.000000    1.000000   1.000000\n",
       "25%     3.000000   3.000000    3.000000   3.000000\n",
       "50%     3.000000   3.000000    7.000000   5.000000\n",
       "75%     8.000000   7.000000    8.000000   6.000000\n",
       "max    10.000000  10.000000    9.000000  10.000000"
      ]
     },
     "metadata": {},
     "output_type": "display_data"
    },
    {
     "name": "stdout",
     "output_type": "stream",
     "text": [
      "<class 'pandas.core.frame.DataFrame'>\n",
      "RangeIndex: 9 entries, 0 to 8\n",
      "Data columns (total 5 columns):\n",
      " #   Column      Non-Null Count  Dtype \n",
      "---  ------      --------------  ----- \n",
      " 0   Hypothesis  9 non-null      object\n",
      " 1   Reach       9 non-null      int64 \n",
      " 2   Impact      9 non-null      int64 \n",
      " 3   Confidence  9 non-null      int64 \n",
      " 4   Efforts     9 non-null      int64 \n",
      "dtypes: int64(4), object(1)\n",
      "memory usage: 488.0+ bytes\n"
     ]
    },
    {
     "data": {
      "text/plain": [
       "None"
      ]
     },
     "metadata": {},
     "output_type": "display_data"
    },
    {
     "data": {
      "text/plain": [
       "0"
      ]
     },
     "metadata": {},
     "output_type": "display_data"
    },
    {
     "data": {
      "text/html": [
       "<div>\n",
       "<style scoped>\n",
       "    .dataframe tbody tr th:only-of-type {\n",
       "        vertical-align: middle;\n",
       "    }\n",
       "\n",
       "    .dataframe tbody tr th {\n",
       "        vertical-align: top;\n",
       "    }\n",
       "\n",
       "    .dataframe thead th {\n",
       "        text-align: right;\n",
       "    }\n",
       "</style>\n",
       "<table border=\"1\" class=\"dataframe\">\n",
       "  <thead>\n",
       "    <tr style=\"text-align: right;\">\n",
       "      <th></th>\n",
       "      <th>transactionId</th>\n",
       "      <th>visitorId</th>\n",
       "      <th>date</th>\n",
       "      <th>revenue</th>\n",
       "      <th>group</th>\n",
       "    </tr>\n",
       "  </thead>\n",
       "  <tbody>\n",
       "    <tr>\n",
       "      <th>0</th>\n",
       "      <td>3667963787</td>\n",
       "      <td>3312258926</td>\n",
       "      <td>2019-08-15</td>\n",
       "      <td>1650</td>\n",
       "      <td>B</td>\n",
       "    </tr>\n",
       "    <tr>\n",
       "      <th>1</th>\n",
       "      <td>2804400009</td>\n",
       "      <td>3642806036</td>\n",
       "      <td>2019-08-15</td>\n",
       "      <td>730</td>\n",
       "      <td>B</td>\n",
       "    </tr>\n",
       "    <tr>\n",
       "      <th>2</th>\n",
       "      <td>2961555356</td>\n",
       "      <td>4069496402</td>\n",
       "      <td>2019-08-15</td>\n",
       "      <td>400</td>\n",
       "      <td>A</td>\n",
       "    </tr>\n",
       "    <tr>\n",
       "      <th>3</th>\n",
       "      <td>3797467345</td>\n",
       "      <td>1196621759</td>\n",
       "      <td>2019-08-15</td>\n",
       "      <td>9759</td>\n",
       "      <td>B</td>\n",
       "    </tr>\n",
       "    <tr>\n",
       "      <th>4</th>\n",
       "      <td>2282983706</td>\n",
       "      <td>2322279887</td>\n",
       "      <td>2019-08-15</td>\n",
       "      <td>2308</td>\n",
       "      <td>B</td>\n",
       "    </tr>\n",
       "  </tbody>\n",
       "</table>\n",
       "</div>"
      ],
      "text/plain": [
       "   transactionId   visitorId        date  revenue group\n",
       "0     3667963787  3312258926  2019-08-15     1650     B\n",
       "1     2804400009  3642806036  2019-08-15      730     B\n",
       "2     2961555356  4069496402  2019-08-15      400     A\n",
       "3     3797467345  1196621759  2019-08-15     9759     B\n",
       "4     2282983706  2322279887  2019-08-15     2308     B"
      ]
     },
     "metadata": {},
     "output_type": "display_data"
    },
    {
     "data": {
      "text/html": [
       "<div>\n",
       "<style scoped>\n",
       "    .dataframe tbody tr th:only-of-type {\n",
       "        vertical-align: middle;\n",
       "    }\n",
       "\n",
       "    .dataframe tbody tr th {\n",
       "        vertical-align: top;\n",
       "    }\n",
       "\n",
       "    .dataframe thead th {\n",
       "        text-align: right;\n",
       "    }\n",
       "</style>\n",
       "<table border=\"1\" class=\"dataframe\">\n",
       "  <thead>\n",
       "    <tr style=\"text-align: right;\">\n",
       "      <th></th>\n",
       "      <th>transactionId</th>\n",
       "      <th>visitorId</th>\n",
       "      <th>revenue</th>\n",
       "    </tr>\n",
       "  </thead>\n",
       "  <tbody>\n",
       "    <tr>\n",
       "      <th>count</th>\n",
       "      <td>1.197000e+03</td>\n",
       "      <td>1.197000e+03</td>\n",
       "      <td>1.197000e+03</td>\n",
       "    </tr>\n",
       "    <tr>\n",
       "      <th>mean</th>\n",
       "      <td>2.155621e+09</td>\n",
       "      <td>2.165960e+09</td>\n",
       "      <td>8.348006e+03</td>\n",
       "    </tr>\n",
       "    <tr>\n",
       "      <th>std</th>\n",
       "      <td>1.229085e+09</td>\n",
       "      <td>1.236014e+09</td>\n",
       "      <td>3.919113e+04</td>\n",
       "    </tr>\n",
       "    <tr>\n",
       "      <th>min</th>\n",
       "      <td>1.062393e+06</td>\n",
       "      <td>5.114589e+06</td>\n",
       "      <td>5.000000e+01</td>\n",
       "    </tr>\n",
       "    <tr>\n",
       "      <th>25%</th>\n",
       "      <td>1.166776e+09</td>\n",
       "      <td>1.111826e+09</td>\n",
       "      <td>1.220000e+03</td>\n",
       "    </tr>\n",
       "    <tr>\n",
       "      <th>50%</th>\n",
       "      <td>2.145194e+09</td>\n",
       "      <td>2.217985e+09</td>\n",
       "      <td>2.978000e+03</td>\n",
       "    </tr>\n",
       "    <tr>\n",
       "      <th>75%</th>\n",
       "      <td>3.237740e+09</td>\n",
       "      <td>3.177606e+09</td>\n",
       "      <td>8.290000e+03</td>\n",
       "    </tr>\n",
       "    <tr>\n",
       "      <th>max</th>\n",
       "      <td>4.293856e+09</td>\n",
       "      <td>4.283872e+09</td>\n",
       "      <td>1.294500e+06</td>\n",
       "    </tr>\n",
       "  </tbody>\n",
       "</table>\n",
       "</div>"
      ],
      "text/plain": [
       "       transactionId     visitorId       revenue\n",
       "count   1.197000e+03  1.197000e+03  1.197000e+03\n",
       "mean    2.155621e+09  2.165960e+09  8.348006e+03\n",
       "std     1.229085e+09  1.236014e+09  3.919113e+04\n",
       "min     1.062393e+06  5.114589e+06  5.000000e+01\n",
       "25%     1.166776e+09  1.111826e+09  1.220000e+03\n",
       "50%     2.145194e+09  2.217985e+09  2.978000e+03\n",
       "75%     3.237740e+09  3.177606e+09  8.290000e+03\n",
       "max     4.293856e+09  4.283872e+09  1.294500e+06"
      ]
     },
     "metadata": {},
     "output_type": "display_data"
    },
    {
     "name": "stdout",
     "output_type": "stream",
     "text": [
      "<class 'pandas.core.frame.DataFrame'>\n",
      "RangeIndex: 1197 entries, 0 to 1196\n",
      "Data columns (total 5 columns):\n",
      " #   Column         Non-Null Count  Dtype \n",
      "---  ------         --------------  ----- \n",
      " 0   transactionId  1197 non-null   int64 \n",
      " 1   visitorId      1197 non-null   int64 \n",
      " 2   date           1197 non-null   object\n",
      " 3   revenue        1197 non-null   int64 \n",
      " 4   group          1197 non-null   object\n",
      "dtypes: int64(3), object(2)\n",
      "memory usage: 46.9+ KB\n"
     ]
    },
    {
     "data": {
      "text/plain": [
       "None"
      ]
     },
     "metadata": {},
     "output_type": "display_data"
    },
    {
     "data": {
      "text/plain": [
       "0"
      ]
     },
     "metadata": {},
     "output_type": "display_data"
    },
    {
     "data": {
      "text/html": [
       "<div>\n",
       "<style scoped>\n",
       "    .dataframe tbody tr th:only-of-type {\n",
       "        vertical-align: middle;\n",
       "    }\n",
       "\n",
       "    .dataframe tbody tr th {\n",
       "        vertical-align: top;\n",
       "    }\n",
       "\n",
       "    .dataframe thead th {\n",
       "        text-align: right;\n",
       "    }\n",
       "</style>\n",
       "<table border=\"1\" class=\"dataframe\">\n",
       "  <thead>\n",
       "    <tr style=\"text-align: right;\">\n",
       "      <th></th>\n",
       "      <th>date</th>\n",
       "      <th>group</th>\n",
       "      <th>visitors</th>\n",
       "    </tr>\n",
       "  </thead>\n",
       "  <tbody>\n",
       "    <tr>\n",
       "      <th>0</th>\n",
       "      <td>2019-08-01</td>\n",
       "      <td>A</td>\n",
       "      <td>719</td>\n",
       "    </tr>\n",
       "    <tr>\n",
       "      <th>1</th>\n",
       "      <td>2019-08-02</td>\n",
       "      <td>A</td>\n",
       "      <td>619</td>\n",
       "    </tr>\n",
       "    <tr>\n",
       "      <th>2</th>\n",
       "      <td>2019-08-03</td>\n",
       "      <td>A</td>\n",
       "      <td>507</td>\n",
       "    </tr>\n",
       "    <tr>\n",
       "      <th>3</th>\n",
       "      <td>2019-08-04</td>\n",
       "      <td>A</td>\n",
       "      <td>717</td>\n",
       "    </tr>\n",
       "    <tr>\n",
       "      <th>4</th>\n",
       "      <td>2019-08-05</td>\n",
       "      <td>A</td>\n",
       "      <td>756</td>\n",
       "    </tr>\n",
       "  </tbody>\n",
       "</table>\n",
       "</div>"
      ],
      "text/plain": [
       "         date group  visitors\n",
       "0  2019-08-01     A       719\n",
       "1  2019-08-02     A       619\n",
       "2  2019-08-03     A       507\n",
       "3  2019-08-04     A       717\n",
       "4  2019-08-05     A       756"
      ]
     },
     "metadata": {},
     "output_type": "display_data"
    },
    {
     "data": {
      "text/html": [
       "<div>\n",
       "<style scoped>\n",
       "    .dataframe tbody tr th:only-of-type {\n",
       "        vertical-align: middle;\n",
       "    }\n",
       "\n",
       "    .dataframe tbody tr th {\n",
       "        vertical-align: top;\n",
       "    }\n",
       "\n",
       "    .dataframe thead th {\n",
       "        text-align: right;\n",
       "    }\n",
       "</style>\n",
       "<table border=\"1\" class=\"dataframe\">\n",
       "  <thead>\n",
       "    <tr style=\"text-align: right;\">\n",
       "      <th></th>\n",
       "      <th>visitors</th>\n",
       "    </tr>\n",
       "  </thead>\n",
       "  <tbody>\n",
       "    <tr>\n",
       "      <th>count</th>\n",
       "      <td>62.000000</td>\n",
       "    </tr>\n",
       "    <tr>\n",
       "      <th>mean</th>\n",
       "      <td>607.290323</td>\n",
       "    </tr>\n",
       "    <tr>\n",
       "      <th>std</th>\n",
       "      <td>114.400560</td>\n",
       "    </tr>\n",
       "    <tr>\n",
       "      <th>min</th>\n",
       "      <td>361.000000</td>\n",
       "    </tr>\n",
       "    <tr>\n",
       "      <th>25%</th>\n",
       "      <td>534.000000</td>\n",
       "    </tr>\n",
       "    <tr>\n",
       "      <th>50%</th>\n",
       "      <td>624.500000</td>\n",
       "    </tr>\n",
       "    <tr>\n",
       "      <th>75%</th>\n",
       "      <td>710.500000</td>\n",
       "    </tr>\n",
       "    <tr>\n",
       "      <th>max</th>\n",
       "      <td>770.000000</td>\n",
       "    </tr>\n",
       "  </tbody>\n",
       "</table>\n",
       "</div>"
      ],
      "text/plain": [
       "         visitors\n",
       "count   62.000000\n",
       "mean   607.290323\n",
       "std    114.400560\n",
       "min    361.000000\n",
       "25%    534.000000\n",
       "50%    624.500000\n",
       "75%    710.500000\n",
       "max    770.000000"
      ]
     },
     "metadata": {},
     "output_type": "display_data"
    },
    {
     "name": "stdout",
     "output_type": "stream",
     "text": [
      "<class 'pandas.core.frame.DataFrame'>\n",
      "RangeIndex: 62 entries, 0 to 61\n",
      "Data columns (total 3 columns):\n",
      " #   Column    Non-Null Count  Dtype \n",
      "---  ------    --------------  ----- \n",
      " 0   date      62 non-null     object\n",
      " 1   group     62 non-null     object\n",
      " 2   visitors  62 non-null     int64 \n",
      "dtypes: int64(1), object(2)\n",
      "memory usage: 1.6+ KB\n"
     ]
    },
    {
     "data": {
      "text/plain": [
       "None"
      ]
     },
     "metadata": {},
     "output_type": "display_data"
    },
    {
     "data": {
      "text/plain": [
       "0"
      ]
     },
     "metadata": {},
     "output_type": "display_data"
    }
   ],
   "source": [
    "# Выведем основную информацию \n",
    "tables = [hypothesis, orders, visitors]\n",
    "\n",
    "for t in tables:\n",
    "    display(t.head())\n",
    "    display(t.describe())\n",
    "    display(t.info())\n",
    "    display(t.duplicated().sum())  "
   ]
  },
  {
   "cell_type": "code",
   "execution_count": 4,
   "metadata": {},
   "outputs": [],
   "source": [
    "# Приведем названия столбцов к единому стилю\n",
    "hypothesis.columns = map(str.lower, hypothesis.columns)"
   ]
  },
  {
   "cell_type": "code",
   "execution_count": 5,
   "metadata": {},
   "outputs": [
    {
     "data": {
      "text/plain": [
       "['hypothesis', 'reach', 'impact', 'confidence', 'efforts']"
      ]
     },
     "execution_count": 5,
     "metadata": {},
     "output_type": "execute_result"
    }
   ],
   "source": [
    "# Посмотрим названия столбцов\n",
    "hypothesis.columns.to_list()"
   ]
  },
  {
   "cell_type": "code",
   "execution_count": 6,
   "metadata": {},
   "outputs": [],
   "source": [
    "# Настроим отображение столбцов\n",
    "pd.set_option('display.max_columns', None)"
   ]
  },
  {
   "cell_type": "code",
   "execution_count": 7,
   "metadata": {},
   "outputs": [],
   "source": [
    "visitors['date'] = visitors['date'].map(\n",
    "    lambda x: dt.datetime.strptime(x, '%Y-%m-%d')\n",
    ")"
   ]
  },
  {
   "cell_type": "code",
   "execution_count": 8,
   "metadata": {},
   "outputs": [],
   "source": [
    "# Изменим данные о времени\n",
    "orders['date'] = orders['date'].map(\n",
    "    lambda x: dt.datetime.strptime(x, '%Y-%m-%d')\n",
    ")  "
   ]
  },
  {
   "cell_type": "code",
   "execution_count": 9,
   "metadata": {},
   "outputs": [
    {
     "data": {
      "text/plain": [
       "Index(['transactionId', 'visitorId', 'date', 'revenue', 'group'], dtype='object')"
      ]
     },
     "execution_count": 9,
     "metadata": {},
     "output_type": "execute_result"
    }
   ],
   "source": [
    "orders.columns"
   ]
  },
  {
   "cell_type": "markdown",
   "metadata": {},
   "source": [
    "# Вывод:\n",
    "* Bзменили названия столбцов привед к единому стилю\n",
    "* Изменили формат данных для дат\n",
    "* Дубликаты и пропуски не обнаружены"
   ]
  },
  {
   "cell_type": "markdown",
   "metadata": {},
   "source": [
    "# Часть 1. Приоритизация гипотез."
   ]
  },
  {
   "cell_type": "markdown",
   "metadata": {},
   "source": [
    "# Примените фреймворк ICE для приоритизации гипотез. Отсортируйте их по убыванию приоритета."
   ]
  },
  {
   "cell_type": "code",
   "execution_count": 10,
   "metadata": {},
   "outputs": [],
   "source": [
    "pd.set_option(\"max_colwidth\", 999)"
   ]
  },
  {
   "cell_type": "code",
   "execution_count": 11,
   "metadata": {
    "scrolled": true
   },
   "outputs": [
    {
     "data": {
      "text/html": [
       "<div>\n",
       "<style scoped>\n",
       "    .dataframe tbody tr th:only-of-type {\n",
       "        vertical-align: middle;\n",
       "    }\n",
       "\n",
       "    .dataframe tbody tr th {\n",
       "        vertical-align: top;\n",
       "    }\n",
       "\n",
       "    .dataframe thead th {\n",
       "        text-align: right;\n",
       "    }\n",
       "</style>\n",
       "<table border=\"1\" class=\"dataframe\">\n",
       "  <thead>\n",
       "    <tr style=\"text-align: right;\">\n",
       "      <th></th>\n",
       "      <th>hypothesis</th>\n",
       "      <th>ICE</th>\n",
       "    </tr>\n",
       "  </thead>\n",
       "  <tbody>\n",
       "    <tr>\n",
       "      <th>8</th>\n",
       "      <td>Запустить акцию, дающую скидку на товар в день рождения</td>\n",
       "      <td>16.20</td>\n",
       "    </tr>\n",
       "    <tr>\n",
       "      <th>0</th>\n",
       "      <td>Добавить два новых канала привлечения трафика, что позволит привлекать на 30% больше пользователей</td>\n",
       "      <td>13.33</td>\n",
       "    </tr>\n",
       "    <tr>\n",
       "      <th>7</th>\n",
       "      <td>Добавить форму подписки на все основные страницы, чтобы собрать базу клиентов для email-рассылок</td>\n",
       "      <td>11.20</td>\n",
       "    </tr>\n",
       "    <tr>\n",
       "      <th>6</th>\n",
       "      <td>Показать на главной странице баннеры с актуальными акциями и распродажами, чтобы увеличить конверсию</td>\n",
       "      <td>8.00</td>\n",
       "    </tr>\n",
       "    <tr>\n",
       "      <th>2</th>\n",
       "      <td>Добавить блоки рекомендаций товаров на сайт интернет магазина, чтобы повысить конверсию и средний чек заказа</td>\n",
       "      <td>7.00</td>\n",
       "    </tr>\n",
       "    <tr>\n",
       "      <th>1</th>\n",
       "      <td>Запустить собственную службу доставки, что сократит срок доставки заказов</td>\n",
       "      <td>2.00</td>\n",
       "    </tr>\n",
       "    <tr>\n",
       "      <th>5</th>\n",
       "      <td>Добавить страницу отзывов клиентов о магазине, что позволит увеличить количество заказов</td>\n",
       "      <td>1.33</td>\n",
       "    </tr>\n",
       "    <tr>\n",
       "      <th>3</th>\n",
       "      <td>Изменить структура категорий, что увеличит конверсию, т.к. пользователи быстрее найдут нужный товар</td>\n",
       "      <td>1.12</td>\n",
       "    </tr>\n",
       "    <tr>\n",
       "      <th>4</th>\n",
       "      <td>Изменить цвет фона главной страницы, чтобы увеличить вовлеченность пользователей</td>\n",
       "      <td>1.00</td>\n",
       "    </tr>\n",
       "  </tbody>\n",
       "</table>\n",
       "</div>"
      ],
      "text/plain": [
       "                                                                                                     hypothesis  \\\n",
       "8                                                       Запустить акцию, дающую скидку на товар в день рождения   \n",
       "0            Добавить два новых канала привлечения трафика, что позволит привлекать на 30% больше пользователей   \n",
       "7              Добавить форму подписки на все основные страницы, чтобы собрать базу клиентов для email-рассылок   \n",
       "6          Показать на главной странице баннеры с актуальными акциями и распродажами, чтобы увеличить конверсию   \n",
       "2  Добавить блоки рекомендаций товаров на сайт интернет магазина, чтобы повысить конверсию и средний чек заказа   \n",
       "1                                     Запустить собственную службу доставки, что сократит срок доставки заказов   \n",
       "5                      Добавить страницу отзывов клиентов о магазине, что позволит увеличить количество заказов   \n",
       "3           Изменить структура категорий, что увеличит конверсию, т.к. пользователи быстрее найдут нужный товар   \n",
       "4                              Изменить цвет фона главной страницы, чтобы увеличить вовлеченность пользователей   \n",
       "\n",
       "     ICE  \n",
       "8  16.20  \n",
       "0  13.33  \n",
       "7  11.20  \n",
       "6   8.00  \n",
       "2   7.00  \n",
       "1   2.00  \n",
       "5   1.33  \n",
       "3   1.12  \n",
       "4   1.00  "
      ]
     },
     "execution_count": 11,
     "metadata": {},
     "output_type": "execute_result"
    }
   ],
   "source": [
    "# Посчитаем ICE гипотез\n",
    "hypothesis['ICE'] = ( hypothesis['impact'] * hypothesis['confidence']) / hypothesis['efforts']\n",
    "hypothesis[['hypothesis', 'ICE']].sort_values(by='ICE', ascending=False).round(2)"
   ]
  },
  {
   "cell_type": "markdown",
   "metadata": {},
   "source": [
    "На первом месте гипотеза 8"
   ]
  },
  {
   "cell_type": "markdown",
   "metadata": {},
   "source": [
    "# Примените фреймворк RICE для приоритизации гипотез. Отсортируйте их по убыванию приоритета"
   ]
  },
  {
   "cell_type": "code",
   "execution_count": 12,
   "metadata": {},
   "outputs": [
    {
     "data": {
      "text/html": [
       "<div>\n",
       "<style scoped>\n",
       "    .dataframe tbody tr th:only-of-type {\n",
       "        vertical-align: middle;\n",
       "    }\n",
       "\n",
       "    .dataframe tbody tr th {\n",
       "        vertical-align: top;\n",
       "    }\n",
       "\n",
       "    .dataframe thead th {\n",
       "        text-align: right;\n",
       "    }\n",
       "</style>\n",
       "<table border=\"1\" class=\"dataframe\">\n",
       "  <thead>\n",
       "    <tr style=\"text-align: right;\">\n",
       "      <th></th>\n",
       "      <th>hypothesis</th>\n",
       "      <th>RICE</th>\n",
       "    </tr>\n",
       "  </thead>\n",
       "  <tbody>\n",
       "    <tr>\n",
       "      <th>7</th>\n",
       "      <td>Добавить форму подписки на все основные страницы, чтобы собрать базу клиентов для email-рассылок</td>\n",
       "      <td>112.0</td>\n",
       "    </tr>\n",
       "    <tr>\n",
       "      <th>2</th>\n",
       "      <td>Добавить блоки рекомендаций товаров на сайт интернет магазина, чтобы повысить конверсию и средний чек заказа</td>\n",
       "      <td>56.0</td>\n",
       "    </tr>\n",
       "    <tr>\n",
       "      <th>0</th>\n",
       "      <td>Добавить два новых канала привлечения трафика, что позволит привлекать на 30% больше пользователей</td>\n",
       "      <td>40.0</td>\n",
       "    </tr>\n",
       "    <tr>\n",
       "      <th>6</th>\n",
       "      <td>Показать на главной странице баннеры с актуальными акциями и распродажами, чтобы увеличить конверсию</td>\n",
       "      <td>40.0</td>\n",
       "    </tr>\n",
       "    <tr>\n",
       "      <th>8</th>\n",
       "      <td>Запустить акцию, дающую скидку на товар в день рождения</td>\n",
       "      <td>16.2</td>\n",
       "    </tr>\n",
       "    <tr>\n",
       "      <th>3</th>\n",
       "      <td>Изменить структура категорий, что увеличит конверсию, т.к. пользователи быстрее найдут нужный товар</td>\n",
       "      <td>9.0</td>\n",
       "    </tr>\n",
       "    <tr>\n",
       "      <th>1</th>\n",
       "      <td>Запустить собственную службу доставки, что сократит срок доставки заказов</td>\n",
       "      <td>4.0</td>\n",
       "    </tr>\n",
       "    <tr>\n",
       "      <th>5</th>\n",
       "      <td>Добавить страницу отзывов клиентов о магазине, что позволит увеличить количество заказов</td>\n",
       "      <td>4.0</td>\n",
       "    </tr>\n",
       "    <tr>\n",
       "      <th>4</th>\n",
       "      <td>Изменить цвет фона главной страницы, чтобы увеличить вовлеченность пользователей</td>\n",
       "      <td>3.0</td>\n",
       "    </tr>\n",
       "  </tbody>\n",
       "</table>\n",
       "</div>"
      ],
      "text/plain": [
       "                                                                                                     hypothesis  \\\n",
       "7              Добавить форму подписки на все основные страницы, чтобы собрать базу клиентов для email-рассылок   \n",
       "2  Добавить блоки рекомендаций товаров на сайт интернет магазина, чтобы повысить конверсию и средний чек заказа   \n",
       "0            Добавить два новых канала привлечения трафика, что позволит привлекать на 30% больше пользователей   \n",
       "6          Показать на главной странице баннеры с актуальными акциями и распродажами, чтобы увеличить конверсию   \n",
       "8                                                       Запустить акцию, дающую скидку на товар в день рождения   \n",
       "3           Изменить структура категорий, что увеличит конверсию, т.к. пользователи быстрее найдут нужный товар   \n",
       "1                                     Запустить собственную службу доставки, что сократит срок доставки заказов   \n",
       "5                      Добавить страницу отзывов клиентов о магазине, что позволит увеличить количество заказов   \n",
       "4                              Изменить цвет фона главной страницы, чтобы увеличить вовлеченность пользователей   \n",
       "\n",
       "    RICE  \n",
       "7  112.0  \n",
       "2   56.0  \n",
       "0   40.0  \n",
       "6   40.0  \n",
       "8   16.2  \n",
       "3    9.0  \n",
       "1    4.0  \n",
       "5    4.0  \n",
       "4    3.0  "
      ]
     },
     "execution_count": 12,
     "metadata": {},
     "output_type": "execute_result"
    }
   ],
   "source": [
    "# Посчитаем RICE гипотез\n",
    "hypothesis['RICE'] = (hypothesis['reach'] *  hypothesis['impact'] * hypothesis['confidence']) / hypothesis['efforts']\n",
    "hypothesis[['hypothesis', 'RICE']].sort_values(by='RICE', ascending=False).round(2)"
   ]
  },
  {
   "cell_type": "markdown",
   "metadata": {},
   "source": [
    "7 гипотеза лидирует"
   ]
  },
  {
   "cell_type": "markdown",
   "metadata": {},
   "source": [
    "# Как изменилась приоритизация гипотез при применении RICE вместо ICE. Объясните, почему так произошло."
   ]
  },
  {
   "cell_type": "code",
   "execution_count": 13,
   "metadata": {},
   "outputs": [
    {
     "data": {
      "text/html": [
       "<div>\n",
       "<style scoped>\n",
       "    .dataframe tbody tr th:only-of-type {\n",
       "        vertical-align: middle;\n",
       "    }\n",
       "\n",
       "    .dataframe tbody tr th {\n",
       "        vertical-align: top;\n",
       "    }\n",
       "\n",
       "    .dataframe thead th {\n",
       "        text-align: right;\n",
       "    }\n",
       "</style>\n",
       "<table border=\"1\" class=\"dataframe\">\n",
       "  <thead>\n",
       "    <tr style=\"text-align: right;\">\n",
       "      <th></th>\n",
       "      <th>hypothesis</th>\n",
       "      <th>reach</th>\n",
       "      <th>impact</th>\n",
       "      <th>confidence</th>\n",
       "      <th>efforts</th>\n",
       "      <th>ICE</th>\n",
       "      <th>RICE</th>\n",
       "    </tr>\n",
       "  </thead>\n",
       "  <tbody>\n",
       "    <tr>\n",
       "      <th>0</th>\n",
       "      <td>Добавить два новых канала привлечения трафика, что позволит привлекать на 30% больше пользователей</td>\n",
       "      <td>3</td>\n",
       "      <td>10</td>\n",
       "      <td>8</td>\n",
       "      <td>6</td>\n",
       "      <td>13.333333</td>\n",
       "      <td>40.0</td>\n",
       "    </tr>\n",
       "    <tr>\n",
       "      <th>1</th>\n",
       "      <td>Запустить собственную службу доставки, что сократит срок доставки заказов</td>\n",
       "      <td>2</td>\n",
       "      <td>5</td>\n",
       "      <td>4</td>\n",
       "      <td>10</td>\n",
       "      <td>2.000000</td>\n",
       "      <td>4.0</td>\n",
       "    </tr>\n",
       "    <tr>\n",
       "      <th>2</th>\n",
       "      <td>Добавить блоки рекомендаций товаров на сайт интернет магазина, чтобы повысить конверсию и средний чек заказа</td>\n",
       "      <td>8</td>\n",
       "      <td>3</td>\n",
       "      <td>7</td>\n",
       "      <td>3</td>\n",
       "      <td>7.000000</td>\n",
       "      <td>56.0</td>\n",
       "    </tr>\n",
       "    <tr>\n",
       "      <th>3</th>\n",
       "      <td>Изменить структура категорий, что увеличит конверсию, т.к. пользователи быстрее найдут нужный товар</td>\n",
       "      <td>8</td>\n",
       "      <td>3</td>\n",
       "      <td>3</td>\n",
       "      <td>8</td>\n",
       "      <td>1.125000</td>\n",
       "      <td>9.0</td>\n",
       "    </tr>\n",
       "    <tr>\n",
       "      <th>4</th>\n",
       "      <td>Изменить цвет фона главной страницы, чтобы увеличить вовлеченность пользователей</td>\n",
       "      <td>3</td>\n",
       "      <td>1</td>\n",
       "      <td>1</td>\n",
       "      <td>1</td>\n",
       "      <td>1.000000</td>\n",
       "      <td>3.0</td>\n",
       "    </tr>\n",
       "    <tr>\n",
       "      <th>5</th>\n",
       "      <td>Добавить страницу отзывов клиентов о магазине, что позволит увеличить количество заказов</td>\n",
       "      <td>3</td>\n",
       "      <td>2</td>\n",
       "      <td>2</td>\n",
       "      <td>3</td>\n",
       "      <td>1.333333</td>\n",
       "      <td>4.0</td>\n",
       "    </tr>\n",
       "    <tr>\n",
       "      <th>6</th>\n",
       "      <td>Показать на главной странице баннеры с актуальными акциями и распродажами, чтобы увеличить конверсию</td>\n",
       "      <td>5</td>\n",
       "      <td>3</td>\n",
       "      <td>8</td>\n",
       "      <td>3</td>\n",
       "      <td>8.000000</td>\n",
       "      <td>40.0</td>\n",
       "    </tr>\n",
       "    <tr>\n",
       "      <th>7</th>\n",
       "      <td>Добавить форму подписки на все основные страницы, чтобы собрать базу клиентов для email-рассылок</td>\n",
       "      <td>10</td>\n",
       "      <td>7</td>\n",
       "      <td>8</td>\n",
       "      <td>5</td>\n",
       "      <td>11.200000</td>\n",
       "      <td>112.0</td>\n",
       "    </tr>\n",
       "    <tr>\n",
       "      <th>8</th>\n",
       "      <td>Запустить акцию, дающую скидку на товар в день рождения</td>\n",
       "      <td>1</td>\n",
       "      <td>9</td>\n",
       "      <td>9</td>\n",
       "      <td>5</td>\n",
       "      <td>16.200000</td>\n",
       "      <td>16.2</td>\n",
       "    </tr>\n",
       "  </tbody>\n",
       "</table>\n",
       "</div>"
      ],
      "text/plain": [
       "                                                                                                     hypothesis  \\\n",
       "0            Добавить два новых канала привлечения трафика, что позволит привлекать на 30% больше пользователей   \n",
       "1                                     Запустить собственную службу доставки, что сократит срок доставки заказов   \n",
       "2  Добавить блоки рекомендаций товаров на сайт интернет магазина, чтобы повысить конверсию и средний чек заказа   \n",
       "3           Изменить структура категорий, что увеличит конверсию, т.к. пользователи быстрее найдут нужный товар   \n",
       "4                              Изменить цвет фона главной страницы, чтобы увеличить вовлеченность пользователей   \n",
       "5                      Добавить страницу отзывов клиентов о магазине, что позволит увеличить количество заказов   \n",
       "6          Показать на главной странице баннеры с актуальными акциями и распродажами, чтобы увеличить конверсию   \n",
       "7              Добавить форму подписки на все основные страницы, чтобы собрать базу клиентов для email-рассылок   \n",
       "8                                                       Запустить акцию, дающую скидку на товар в день рождения   \n",
       "\n",
       "   reach  impact  confidence  efforts        ICE   RICE  \n",
       "0      3      10           8        6  13.333333   40.0  \n",
       "1      2       5           4       10   2.000000    4.0  \n",
       "2      8       3           7        3   7.000000   56.0  \n",
       "3      8       3           3        8   1.125000    9.0  \n",
       "4      3       1           1        1   1.000000    3.0  \n",
       "5      3       2           2        3   1.333333    4.0  \n",
       "6      5       3           8        3   8.000000   40.0  \n",
       "7     10       7           8        5  11.200000  112.0  \n",
       "8      1       9           9        5  16.200000   16.2  "
      ]
     },
     "execution_count": 13,
     "metadata": {},
     "output_type": "execute_result"
    }
   ],
   "source": [
    "# Посмотрим табличку \n",
    "hypothesis"
   ]
  },
  {
   "cell_type": "markdown",
   "metadata": {},
   "source": [
    "В пятерке лучших одни и те же гипотезы а именно 0, 2, 6, 7, 8\n",
    "\n",
    "При расчёте RICE на первом месте гипотеза под номером 7, а при ICE на первом месте гипотеза под номером 8\n",
    "\n",
    "Это из за того что параметр 7 гипотизы - reach равен 10, а у остальных гипотез он меньше\n",
    "\n",
    "Из за параметра охвата - Reach, использующегося в методе RICE изменил всю приоритетность по методу ICE\n",
    "\n",
    "Нужно учитывать сколько пользователей гипотеза затронет"
   ]
  },
  {
   "cell_type": "markdown",
   "metadata": {},
   "source": [
    "# Часть 2. Анализ A/B-теста"
   ]
  },
  {
   "cell_type": "markdown",
   "metadata": {},
   "source": [
    "* Постройте график кумулятивной выручки по группам. Сделайте выводы и предположения."
   ]
  },
  {
   "cell_type": "code",
   "execution_count": 14,
   "metadata": {},
   "outputs": [
    {
     "data": {
      "text/html": [
       "<div>\n",
       "<style scoped>\n",
       "    .dataframe tbody tr th:only-of-type {\n",
       "        vertical-align: middle;\n",
       "    }\n",
       "\n",
       "    .dataframe tbody tr th {\n",
       "        vertical-align: top;\n",
       "    }\n",
       "\n",
       "    .dataframe thead th {\n",
       "        text-align: right;\n",
       "    }\n",
       "</style>\n",
       "<table border=\"1\" class=\"dataframe\">\n",
       "  <thead>\n",
       "    <tr style=\"text-align: right;\">\n",
       "      <th></th>\n",
       "      <th>transactionId</th>\n",
       "      <th>visitorId</th>\n",
       "      <th>date</th>\n",
       "      <th>revenue</th>\n",
       "      <th>group</th>\n",
       "    </tr>\n",
       "  </thead>\n",
       "  <tbody>\n",
       "    <tr>\n",
       "      <th>0</th>\n",
       "      <td>3667963787</td>\n",
       "      <td>3312258926</td>\n",
       "      <td>2019-08-15</td>\n",
       "      <td>1650</td>\n",
       "      <td>B</td>\n",
       "    </tr>\n",
       "    <tr>\n",
       "      <th>1</th>\n",
       "      <td>2804400009</td>\n",
       "      <td>3642806036</td>\n",
       "      <td>2019-08-15</td>\n",
       "      <td>730</td>\n",
       "      <td>B</td>\n",
       "    </tr>\n",
       "    <tr>\n",
       "      <th>2</th>\n",
       "      <td>2961555356</td>\n",
       "      <td>4069496402</td>\n",
       "      <td>2019-08-15</td>\n",
       "      <td>400</td>\n",
       "      <td>A</td>\n",
       "    </tr>\n",
       "    <tr>\n",
       "      <th>3</th>\n",
       "      <td>3797467345</td>\n",
       "      <td>1196621759</td>\n",
       "      <td>2019-08-15</td>\n",
       "      <td>9759</td>\n",
       "      <td>B</td>\n",
       "    </tr>\n",
       "    <tr>\n",
       "      <th>4</th>\n",
       "      <td>2282983706</td>\n",
       "      <td>2322279887</td>\n",
       "      <td>2019-08-15</td>\n",
       "      <td>2308</td>\n",
       "      <td>B</td>\n",
       "    </tr>\n",
       "  </tbody>\n",
       "</table>\n",
       "</div>"
      ],
      "text/plain": [
       "   transactionId   visitorId       date  revenue group\n",
       "0     3667963787  3312258926 2019-08-15     1650     B\n",
       "1     2804400009  3642806036 2019-08-15      730     B\n",
       "2     2961555356  4069496402 2019-08-15      400     A\n",
       "3     3797467345  1196621759 2019-08-15     9759     B\n",
       "4     2282983706  2322279887 2019-08-15     2308     B"
      ]
     },
     "execution_count": 14,
     "metadata": {},
     "output_type": "execute_result"
    }
   ],
   "source": [
    "orders.head()"
   ]
  },
  {
   "cell_type": "code",
   "execution_count": 15,
   "metadata": {},
   "outputs": [
    {
     "data": {
      "text/html": [
       "<div>\n",
       "<style scoped>\n",
       "    .dataframe tbody tr th:only-of-type {\n",
       "        vertical-align: middle;\n",
       "    }\n",
       "\n",
       "    .dataframe tbody tr th {\n",
       "        vertical-align: top;\n",
       "    }\n",
       "\n",
       "    .dataframe thead th {\n",
       "        text-align: right;\n",
       "    }\n",
       "</style>\n",
       "<table border=\"1\" class=\"dataframe\">\n",
       "  <thead>\n",
       "    <tr style=\"text-align: right;\">\n",
       "      <th></th>\n",
       "      <th>date</th>\n",
       "      <th>group</th>\n",
       "      <th>visitors</th>\n",
       "    </tr>\n",
       "  </thead>\n",
       "  <tbody>\n",
       "    <tr>\n",
       "      <th>0</th>\n",
       "      <td>2019-08-01</td>\n",
       "      <td>A</td>\n",
       "      <td>719</td>\n",
       "    </tr>\n",
       "    <tr>\n",
       "      <th>1</th>\n",
       "      <td>2019-08-02</td>\n",
       "      <td>A</td>\n",
       "      <td>619</td>\n",
       "    </tr>\n",
       "    <tr>\n",
       "      <th>2</th>\n",
       "      <td>2019-08-03</td>\n",
       "      <td>A</td>\n",
       "      <td>507</td>\n",
       "    </tr>\n",
       "    <tr>\n",
       "      <th>3</th>\n",
       "      <td>2019-08-04</td>\n",
       "      <td>A</td>\n",
       "      <td>717</td>\n",
       "    </tr>\n",
       "    <tr>\n",
       "      <th>4</th>\n",
       "      <td>2019-08-05</td>\n",
       "      <td>A</td>\n",
       "      <td>756</td>\n",
       "    </tr>\n",
       "  </tbody>\n",
       "</table>\n",
       "</div>"
      ],
      "text/plain": [
       "        date group  visitors\n",
       "0 2019-08-01     A       719\n",
       "1 2019-08-02     A       619\n",
       "2 2019-08-03     A       507\n",
       "3 2019-08-04     A       717\n",
       "4 2019-08-05     A       756"
      ]
     },
     "execution_count": 15,
     "metadata": {},
     "output_type": "execute_result"
    }
   ],
   "source": [
    "visitors.head()"
   ]
  },
  {
   "cell_type": "code",
   "execution_count": 16,
   "metadata": {
    "scrolled": true
   },
   "outputs": [
    {
     "data": {
      "text/plain": [
       "array([   8300375,  199603092,  232979603,  237748145,  276558944,\n",
       "        351125977,  393266494,  457167155,  471551937,  477780734,\n",
       "        818047933,  963407295, 1230306981, 1294878855, 1316129916,\n",
       "       1333886533, 1404934699, 1602967004, 1614305549, 1648269707,\n",
       "       1668030113, 1738359350, 1801183820, 1959144690, 2038680547,\n",
       "       2044997962, 2378935119, 2458001652, 2579882178, 2587333274,\n",
       "       2600415354, 2654030115, 2686716486, 2712142231, 2716752286,\n",
       "       2780786433, 2927087541, 2949041841, 2954449915, 3062433592,\n",
       "       3202540741, 3234906277, 3656415546, 3717692402, 3766097110,\n",
       "       3803269165, 3891541246, 3941795274, 3951559397, 3957174400,\n",
       "       3963646447, 3972127743, 3984495233, 4069496402, 4120364173,\n",
       "       4186807279, 4256040402, 4266935830])"
      ]
     },
     "execution_count": 16,
     "metadata": {},
     "output_type": "execute_result"
    }
   ],
   "source": [
    "# Посмотрим есть ли пользователи состоящие в обоих группах \n",
    "dup_users = np.intersect1d(orders.query('group == \"A\"')['visitorId'].unique(), orders.query('group == \"B\"')['visitorId'].unique())\n",
    "dup_users"
   ]
  },
  {
   "cell_type": "code",
   "execution_count": 17,
   "metadata": {},
   "outputs": [],
   "source": [
    "# Удалим пользователей попавших в обе группы\n",
    "orders = orders[~orders['visitorId'].isin(dup_users)]"
   ]
  },
  {
   "cell_type": "code",
   "execution_count": 18,
   "metadata": {
    "scrolled": true
   },
   "outputs": [
    {
     "data": {
      "text/plain": [
       "array([], dtype=int64)"
      ]
     },
     "execution_count": 18,
     "metadata": {},
     "output_type": "execute_result"
    }
   ],
   "source": [
    "np.intersect1d(orders.query('group == \"A\"')['visitorId'].unique(), orders.query('group == \"B\"')['visitorId'].unique())"
   ]
  },
  {
   "cell_type": "code",
   "execution_count": 19,
   "metadata": {
    "scrolled": true
   },
   "outputs": [
    {
     "data": {
      "text/html": [
       "<div>\n",
       "<style scoped>\n",
       "    .dataframe tbody tr th:only-of-type {\n",
       "        vertical-align: middle;\n",
       "    }\n",
       "\n",
       "    .dataframe tbody tr th {\n",
       "        vertical-align: top;\n",
       "    }\n",
       "\n",
       "    .dataframe thead th {\n",
       "        text-align: right;\n",
       "    }\n",
       "</style>\n",
       "<table border=\"1\" class=\"dataframe\">\n",
       "  <thead>\n",
       "    <tr style=\"text-align: right;\">\n",
       "      <th></th>\n",
       "      <th>date</th>\n",
       "      <th>group</th>\n",
       "      <th>orders</th>\n",
       "      <th>buyers</th>\n",
       "      <th>revenue</th>\n",
       "      <th>visitors</th>\n",
       "    </tr>\n",
       "  </thead>\n",
       "  <tbody>\n",
       "    <tr>\n",
       "      <th>0</th>\n",
       "      <td>2019-08-01</td>\n",
       "      <td>A</td>\n",
       "      <td>23</td>\n",
       "      <td>19</td>\n",
       "      <td>142779</td>\n",
       "      <td>719</td>\n",
       "    </tr>\n",
       "    <tr>\n",
       "      <th>1</th>\n",
       "      <td>2019-08-01</td>\n",
       "      <td>B</td>\n",
       "      <td>17</td>\n",
       "      <td>17</td>\n",
       "      <td>59758</td>\n",
       "      <td>713</td>\n",
       "    </tr>\n",
       "    <tr>\n",
       "      <th>2</th>\n",
       "      <td>2019-08-02</td>\n",
       "      <td>A</td>\n",
       "      <td>42</td>\n",
       "      <td>36</td>\n",
       "      <td>234381</td>\n",
       "      <td>1338</td>\n",
       "    </tr>\n",
       "    <tr>\n",
       "      <th>3</th>\n",
       "      <td>2019-08-02</td>\n",
       "      <td>B</td>\n",
       "      <td>40</td>\n",
       "      <td>39</td>\n",
       "      <td>221801</td>\n",
       "      <td>1294</td>\n",
       "    </tr>\n",
       "    <tr>\n",
       "      <th>4</th>\n",
       "      <td>2019-08-03</td>\n",
       "      <td>A</td>\n",
       "      <td>66</td>\n",
       "      <td>60</td>\n",
       "      <td>346854</td>\n",
       "      <td>1845</td>\n",
       "    </tr>\n",
       "  </tbody>\n",
       "</table>\n",
       "</div>"
      ],
      "text/plain": [
       "        date group  orders  buyers  revenue  visitors\n",
       "0 2019-08-01     A      23      19   142779       719\n",
       "1 2019-08-01     B      17      17    59758       713\n",
       "2 2019-08-02     A      42      36   234381      1338\n",
       "3 2019-08-02     B      40      39   221801      1294\n",
       "4 2019-08-03     A      66      60   346854      1845"
      ]
     },
     "execution_count": 19,
     "metadata": {},
     "output_type": "execute_result"
    }
   ],
   "source": [
    "# Создаём массив уникальных пар\n",
    "date_groups = orders[['date','group']].drop_duplicates()\n",
    "\n",
    "# Получим агрегированные кумулятивные данные о заказах \n",
    "orders_aggregated = date_groups.apply(lambda x: orders[np.logical_and(orders['date'] <= x['date'], orders['group'] == x['group'])]. \\\n",
    "                                     agg({'date' : 'max', \n",
    "                                          'group' : 'max', \n",
    "                                          'transactionId' : pd.Series.nunique, \n",
    "                                          'visitorId' : pd.Series.nunique, \n",
    "                                          'revenue' : 'sum'}), axis=1).sort_values(by=['date','group'])\n",
    "\n",
    "# Получим агрегированные кумулятивные данные о посетителях\n",
    "visitorsAggregated = date_groups.apply(lambda x: visitors[np.logical_and(visitors['date'] <= x['date'], visitors['group'] == x['group'])]. \\\n",
    "                                       agg({'date' : 'max', \n",
    "                                            'group' : 'max', \n",
    "                                            'visitors' : 'sum'}), axis=1).sort_values(by=['date','group'])\n",
    "\n",
    "# Объединим кумулятивные данные в одной табличке\n",
    "cumulative_data = orders_aggregated.merge(visitorsAggregated, left_on=['date', 'group'], right_on=['date', 'group'])\n",
    "\n",
    "# Переименуем столбцы\n",
    "cumulative_data.columns = ['date', 'group', 'orders', 'buyers', 'revenue', 'visitors']\n",
    "\n",
    "cumulative_data.head(5)"
   ]
  },
  {
   "cell_type": "code",
   "execution_count": 20,
   "metadata": {},
   "outputs": [
    {
     "data": {
      "image/png": "[encoded data removed]",
      "text/plain": [
       "<Figure size 1080x360 with 1 Axes>"
      ]
     },
     "metadata": {
      "needs_background": "light"
     },
     "output_type": "display_data"
    }
   ],
   "source": [
    "# Датафрейм с к.количеством заказов и к.выручкой по дням в группе А\n",
    "cumulative_revenue_a = cumulative_data[cumulative_data['group']=='A'][['date','revenue', 'orders']]\n",
    "# Датафрейм с к.количеством заказов и к.выручкой по дням в группе B\n",
    "cumulative_revenue_b = cumulative_data[cumulative_data['group']=='B'][['date','revenue', 'orders']]\n",
    "\n",
    "from pandas.plotting import register_matplotlib_converters\n",
    "register_matplotlib_converters()\n",
    "\n",
    "plt.figure(figsize=(15,5))\n",
    "# Построим график выручки для группы А\n",
    "plt.plot(cumulative_revenue_a['date'], cumulative_revenue_a['revenue'], label='К.выручка группы A')\n",
    "# Построим график выручки для группы B\n",
    "plt.plot(cumulative_revenue_b['date'], cumulative_revenue_b['revenue'], label='К.выручка группы B')\n",
    "plt.title('График кумулятивной выручки в группах\\n  ')\n",
    "plt.xlabel('\\nДата')\n",
    "plt.ylabel('Выручка\\n')\n",
    "plt.grid()\n",
    "plt.legend() ;"
   ]
  },
  {
   "cell_type": "markdown",
   "metadata": {},
   "source": [
    "Видим резкий скачек в графике в группе В\n",
    "\n",
    "Вероятно из за аномально большого количества заказов или аномально высокого среднего чека.\n",
    "\n",
    "Период 18.08.2019 - 19.08.2019"
   ]
  },
  {
   "cell_type": "markdown",
   "metadata": {},
   "source": [
    "Вывод:\n",
    "\n",
    "На графике кумулятивной выручки в группах видно что кривая выручки группы B стабильно выше чем показатель группы А\n",
    "\n",
    "Так же где-то в период 18-19 августа произошел ее резкий скачок из за которого разрыв между группами стал еще более значительным далее обе линии идут параллельно\n",
    "\n",
    "Вероятнее всего такое резкое изменение произошло из-за крупных заказов"
   ]
  },
  {
   "cell_type": "markdown",
   "metadata": {},
   "source": [
    "* Постройте график кумулятивного среднего чека по группам. Сделайте выводы и предположения."
   ]
  },
  {
   "cell_type": "code",
   "execution_count": 21,
   "metadata": {},
   "outputs": [
    {
     "data": {
      "image/png": "[encoded data removed]",
      "text/plain": [
       "<Figure size 1080x360 with 1 Axes>"
      ]
     },
     "metadata": {
      "needs_background": "light"
     },
     "output_type": "display_data"
    }
   ],
   "source": [
    "plt.figure(figsize=(15,5))\n",
    "plt.grid()\n",
    "plt.plot(cumulative_revenue_a['date'], cumulative_revenue_a['revenue']/cumulative_revenue_a['orders'], label='Группа A')\n",
    "plt.plot(cumulative_revenue_b['date'], cumulative_revenue_b['revenue']/cumulative_revenue_b['orders'], label='Группа B')\n",
    "plt.title('График кумулятивного среднего чека по группам\\n  ')\n",
    "plt.xlabel('\\nДата')\n",
    "plt.ylabel('Сумма среднего чека по группам\\n')\n",
    "plt.legend() ;"
   ]
  },
  {
   "cell_type": "markdown",
   "metadata": {},
   "source": [
    "К.значение среднего чека по сегментам нестабильно. \n",
    "\n",
    "Возможно имеются выбросы искажающие общую картину."
   ]
  },
  {
   "cell_type": "markdown",
   "metadata": {},
   "source": [
    "Вывод\n",
    "\n",
    "На графике мы видим что кривая группы В в период с 11 по 15 августа падает ниже уровня группы А но затем резко растет\n",
    "Это подтверждает что в группе В в период 18-19 августа была крупная покупка которая увеличила размер кумулятивного среднего чека"
   ]
  },
  {
   "cell_type": "markdown",
   "metadata": {},
   "source": [
    "* Постройте график относительного изменения кумулятивного среднего чека группы B к группе A. Сделайте выводы и предположения."
   ]
  },
  {
   "cell_type": "code",
   "execution_count": 22,
   "metadata": {},
   "outputs": [
    {
     "data": {
      "image/png": "[encoded data removed]",
      "text/plain": [
       "<Figure size 1080x360 with 1 Axes>"
      ]
     },
     "metadata": {
      "needs_background": "light"
     },
     "output_type": "display_data"
    }
   ],
   "source": [
    "# Собирем все в одном датафрейме\n",
    "merged_cumulative_revenue = cumulative_revenue_a.merge(cumulative_revenue_b, left_on='date', right_on='date', how='left', suffixes=['A', 'B'])\n",
    "\n",
    "# Построим отношение средних чеков\n",
    "plt.figure(figsize=(15,5))\n",
    "plt.grid()\n",
    "plt.plot(merged_cumulative_revenue['date'], (merged_cumulative_revenue['revenueB']/merged_cumulative_revenue['ordersB'])/(merged_cumulative_revenue['revenueA']/merged_cumulative_revenue['ordersA'])-1)\n",
    "plt.title('График относительного изменения кумулятивного среднего чека группы B к группе A\\n  ')\n",
    "plt.xlabel('\\nДата')\n",
    "plt.ylabel('Изменение среденего чека \\n')\n",
    "# Добавим ось X\n",
    "plt.axhline(y=0, color='black', linestyle='--') ;"
   ]
  },
  {
   "cell_type": "markdown",
   "metadata": {},
   "source": [
    "Сомтря на график относительного различия в среднем чеке между группами видно как сильно меняются значения в определенные дни\n",
    "\n",
    "Видимо тогда были совершены аномальные заказы"
   ]
  },
  {
   "cell_type": "markdown",
   "metadata": {},
   "source": [
    "* Постройте график кумулятивного среднего количества заказов на посетителя по группам. Сделайте выводы и предположения."
   ]
  },
  {
   "cell_type": "code",
   "execution_count": 23,
   "metadata": {},
   "outputs": [
    {
     "data": {
      "text/plain": [
       "''"
      ]
     },
     "execution_count": 23,
     "metadata": {},
     "output_type": "execute_result"
    },
    {
     "data": {
      "image/png": "[encoded data removed]",
      "text/plain": [
       "<Figure size 1080x360 with 1 Axes>"
      ]
     },
     "metadata": {
      "needs_background": "light"
     },
     "output_type": "display_data"
    }
   ],
   "source": [
    "# Посчитаем количество заказов\n",
    "cumulative_data['conversion'] = cumulative_data['orders']/cumulative_data['visitors']\n",
    "\n",
    "# Отделим данные по группе A\n",
    "cumulative_data_a = cumulative_data[cumulative_data['group']=='A']\n",
    "\n",
    "# Отделим данные по группе B\n",
    "cumulative_data_b = cumulative_data[cumulative_data['group']=='B']\n",
    "\n",
    "# Построим графики\n",
    "plt.figure(figsize=(15,5))\n",
    "plt.grid()\n",
    "plt.plot(cumulative_data_a['date'], cumulative_data_a['conversion'], label='Группа A')\n",
    "plt.plot(cumulative_data_b['date'], cumulative_data_b['conversion'], label='Группа B')\n",
    "plt.legend()\n",
    "plt.title('График количества заказов по группам\\n  ')\n",
    "plt.xlabel('\\nДата')\n",
    "plt.ylabel('Количество заказов\\n')\n",
    "plt.axis([dt.datetime(2019, 8, 1), dt.datetime(2019, 9, 1), 0.02, 0.04])\n",
    ";"
   ]
  },
  {
   "cell_type": "markdown",
   "metadata": {},
   "source": [
    "В начале Группа А имела большее количество заказов позже Группа В выровнялась и зафиксировалась больше значения Группы А"
   ]
  },
  {
   "cell_type": "markdown",
   "metadata": {},
   "source": [
    "* Постройте график относительного изменения кумулятивного среднего количества заказов на посетителя группы B к группе A. Сделайте выводы и предположения."
   ]
  },
  {
   "cell_type": "code",
   "execution_count": 43,
   "metadata": {},
   "outputs": [
    {
     "data": {
      "text/plain": [
       "''"
      ]
     },
     "execution_count": 43,
     "metadata": {},
     "output_type": "execute_result"
    },
    {
     "data": {
      "image/png": "[encoded data removed]",
      "text/plain": [
       "<Figure size 1080x360 with 1 Axes>"
      ]
     },
     "metadata": {
      "needs_background": "light"
     },
     "output_type": "display_data"
    }
   ],
   "source": [
    "merged_сumulative_сonversions = cumulative_data_a[['date','conversion']].merge(cumulative_data_b[['date','conversion']], left_on='date', right_on='date', how='left', suffixes=['A', 'B'])\n",
    "plt.figure(figsize=(15,5))\n",
    "plt.grid()\n",
    "plt.plot(merged_сumulative_сonversions['date'], merged_сumulative_сonversions['conversionB']/merged_сumulative_сonversions['conversionA']-1, label=\"Относительный прирост кумулятивного среднего количества заказов на посетителя группы B к группе A\")\n",
    "plt.legend()\n",
    "\n",
    "plt.axhline(y=0, color='black', linestyle='--')\n",
    "plt.axhline(y=0.2, color='grey', linestyle='--')\n",
    "plt.axis([\"2019-08-01\", '2019-09-01', -0.3, 0.3])\n",
    "plt.title('график относительного изменения кумулятивного среднего количества заказов на посетителя группы B к группе A\\n  ')\n",
    "plt.xlabel('\\nДата')\n",
    "plt.ylabel('Относительне изменение количества заказов\\n')\n",
    ";"
   ]
  },
  {
   "cell_type": "markdown",
   "metadata": {},
   "source": [
    "Почти в начале группа В лидирует по количеству заказов\n",
    "\n",
    "Получила стабильные +15% относительно группы А"
   ]
  },
  {
   "cell_type": "markdown",
   "metadata": {},
   "source": [
    "* Постройте точечный график количества заказов по пользователям. Сделайте выводы и предположения."
   ]
  },
  {
   "cell_type": "code",
   "execution_count": 25,
   "metadata": {},
   "outputs": [
    {
     "data": {
      "text/plain": [
       "''"
      ]
     },
     "execution_count": 25,
     "metadata": {},
     "output_type": "execute_result"
    },
    {
     "data": {
      "image/png": "[encoded data removed]",
      "text/plain": [
       "<Figure size 1080x360 with 1 Axes>"
      ]
     },
     "metadata": {
      "needs_background": "light"
     },
     "output_type": "display_data"
    }
   ],
   "source": [
    "orders_by_users = orders.drop(['group', 'revenue', 'date'], axis=1).groupby('visitorId', as_index=False). \\\n",
    "                                                                        agg({'transactionId' : pd.Series.nunique})\n",
    "\n",
    "orders_by_users.columns = ['user_id','orders']\n",
    "\n",
    "orders_by_users.sort_values(by='orders',ascending=False).head(10)\n",
    "\n",
    "plt.figure(figsize=(15,5))\n",
    "plt.grid()\n",
    "plt.title('График количества заказов по пользователям\\n  ')\n",
    "plt.xlabel('\\nКоличество пользователей')\n",
    "plt.ylabel('nКоличество заказов\\n')\n",
    "x_values = pd.Series(range(0, len(orders_by_users)))\n",
    "plt.scatter(x_values, orders_by_users['orders']) \n",
    ";"
   ]
  },
  {
   "cell_type": "markdown",
   "metadata": {},
   "source": [
    "Самое большое значение у пользователей совершивших один заказ\n",
    "\n",
    "Совершивших 2 заказа значительно меньше\n",
    "\n",
    "Совершивших 3 заказа меньше всего\n",
    "\n",
    "Они будут являться выбросами стоит посчитать выборочные перцентили"
   ]
  },
  {
   "cell_type": "markdown",
   "metadata": {},
   "source": [
    "* Посчитайте 95-й и 99-й перцентили количества заказов на пользователя. Выберите границу для определения аномальных пользователей."
   ]
  },
  {
   "cell_type": "code",
   "execution_count": 26,
   "metadata": {},
   "outputs": [
    {
     "name": "stdout",
     "output_type": "stream",
     "text": [
      "[1. 2.]\n"
     ]
    }
   ],
   "source": [
    "# Метод np.percentile('column', [percentile1, percentile2]) находит перцентили.\n",
    "print(np.percentile(orders_by_users['orders'], [95, 99])) "
   ]
  },
  {
   "cell_type": "markdown",
   "metadata": {},
   "source": [
    "95% пользователей овершают не больше 1 заказа\n",
    "\n",
    "99% совершают 2 заказа\n",
    "\n",
    "Аномальным будет всё что более этого"
   ]
  },
  {
   "cell_type": "markdown",
   "metadata": {},
   "source": [
    "* Постройте точечный график стоимостей заказов. Сделайте выводы и предположения."
   ]
  },
  {
   "cell_type": "code",
   "execution_count": 27,
   "metadata": {},
   "outputs": [
    {
     "data": {
      "image/png": "[encoded data removed]",
      "text/plain": [
       "<Figure size 1080x360 with 1 Axes>"
      ]
     },
     "metadata": {
      "needs_background": "light"
     },
     "output_type": "display_data"
    }
   ],
   "source": [
    "x_values = pd.Series(range(0,len(orders['revenue'])))\n",
    "plt.figure(figsize=(15,5))\n",
    "plt.grid()\n",
    "plt.title('График стоимостей заказов\\n ')\n",
    "plt.xlabel('\\nКол-во пользователей')\n",
    "plt.ylabel('Стоимость заказа\\n')\n",
    "plt.scatter(x_values, orders['revenue'], alpha=0.3);"
   ]
  },
  {
   "cell_type": "markdown",
   "metadata": {},
   "source": [
    "Видим 2 аномальных значения"
   ]
  },
  {
   "cell_type": "code",
   "execution_count": 28,
   "metadata": {},
   "outputs": [
    {
     "data": {
      "text/plain": [
       "743       67990\n",
       "744       86620\n",
       "1136      92550\n",
       "1196     202740\n",
       "425     1294500\n",
       "Name: revenue, dtype: int64"
      ]
     },
     "execution_count": 28,
     "metadata": {},
     "output_type": "execute_result"
    }
   ],
   "source": [
    "# Точные суммы аномальных заказов.\n",
    "orders['revenue'].sort_values().tail()"
   ]
  },
  {
   "cell_type": "code",
   "execution_count": 29,
   "metadata": {},
   "outputs": [
    {
     "data": {
      "image/png": "[encoded data removed]",
      "text/plain": [
       "<Figure size 1080x360 with 1 Axes>"
      ]
     },
     "metadata": {
      "needs_background": "light"
     },
     "output_type": "display_data"
    }
   ],
   "source": [
    "rate_orders = orders[orders['revenue']<=200000]['revenue']\n",
    "xn_values = pd.Series(range(0,len(rate_orders)))\n",
    "plt.figure(figsize=(15,5))\n",
    "plt.grid()\n",
    "plt.title('График стоимостей заказов')\n",
    "plt.xlabel('\\nКол-во пользователей')\n",
    "plt.ylabel('Стоимость заказа\\n')\n",
    "plt.scatter(xn_values, rate_orders, alpha=0.5);"
   ]
  },
  {
   "cell_type": "markdown",
   "metadata": {},
   "source": [
    "Вывод\n",
    "\n",
    "У подавляющего большинства пользователей обоих групп сумма заказа не превышает 10 тыс. рублей \n",
    "\n",
    "Порог заказов не превышает 100 тыс руб \n",
    "\n",
    "При этом на графике группы В можно заметить один аномально большой заказ, превышающий 1,2 млн.руб \n",
    "\n",
    "Судя по всему это и есть причина резкого скачка кумулятивного среднего чека 19 августа"
   ]
  },
  {
   "cell_type": "markdown",
   "metadata": {},
   "source": [
    "* Посчитайте 95-й и 99-й перцентили стоимости заказов. Выберите границу для определения аномальных заказов."
   ]
  },
  {
   "cell_type": "code",
   "execution_count": 30,
   "metadata": {},
   "outputs": [
    {
     "data": {
      "text/plain": [
       "array([26785., 53904.])"
      ]
     },
     "execution_count": 30,
     "metadata": {},
     "output_type": "execute_result"
    }
   ],
   "source": [
    "np.percentile(orders['revenue'], [95, 99])"
   ]
  },
  {
   "cell_type": "markdown",
   "metadata": {},
   "source": [
    "Не более чем у 95% заказов чек выше 26785 рублей\n",
    "\n",
    "Не более чем у 1% дороже 53904 рублей.\n",
    "\n",
    "За границу для определения аномальных заказов примем значение 53904"
   ]
  },
  {
   "cell_type": "markdown",
   "metadata": {},
   "source": [
    "* Посчитайте статистическую значимость различий в среднем количестве заказов на посетителя между группами по «сырым» данным. Сделайте выводы и предположения."
   ]
  },
  {
   "cell_type": "code",
   "execution_count": 31,
   "metadata": {},
   "outputs": [],
   "source": [
    "visitors_a_daily = visitors[visitors['group']=='A'][['date', 'visitors']]\n",
    "visitors_a_daily.columns = ['date', 'visitors_per_date_a']\n",
    "\n",
    "visitors_a_cummulative = visitors_a_daily.apply(lambda x: visitors_a_daily[visitors_a_daily['date'] <= x['date']]. \\\n",
    "                                            agg({'date' : 'max', 'visitors_per_date_a' : 'sum'}), axis=1)\n",
    "visitors_a_cummulative.columns = ['date', 'visitors_cummulative_a']\n",
    "\n",
    "visitors_b_daily = visitors[visitors['group']=='B'][['date', 'visitors']]\n",
    "visitors_b_daily.columns = ['date', 'visitors_per_date_b']\n",
    "\n",
    "visitors_b_cummulative = visitors_b_daily.apply(lambda x: visitors_b_daily[visitors_b_daily['date'] <= x['date']]. \\\n",
    "                                            agg({'date' : 'max', 'visitors_per_date_b' : 'sum'}), axis=1)\n",
    "visitors_b_cummulative.columns = ['date', 'visitors_cummulative_b']"
   ]
  },
  {
   "cell_type": "code",
   "execution_count": 32,
   "metadata": {},
   "outputs": [],
   "source": [
    "orders_a_daily = orders[orders['group']=='A'][['date', 'transactionId', 'visitorId', 'revenue']]\\\n",
    "    .groupby('date', as_index=False)\\\n",
    "    .agg({'transactionId' : pd.Series.nunique, 'revenue' : 'sum'})\n",
    "orders_a_daily.columns = ['date', 'orders_per_date_a', 'revenue_per_date_a']\n",
    "\n",
    "orders_a_cummulative = orders_a_daily.apply(\n",
    "    lambda x: \\\n",
    "        orders_a_daily[orders_a_daily['date'] <= x['date']]\\\n",
    "            .agg({\n",
    "                'date' : 'max',\n",
    "                'orders_per_date_a' : 'sum',\n",
    "                'revenue_per_date_a' : 'sum'}), axis=1).sort_values(by=['date'])\n",
    "orders_a_cummulative.columns = ['date', 'orders_cummulative_a', 'revenue_cummulative_a']\n",
    "\n",
    "orders_b_daily = orders[orders['group']=='B'][['date', 'transactionId', 'visitorId', 'revenue']]\\\n",
    "    .groupby('date', as_index=False)\\\n",
    "    .agg({'transactionId' : pd.Series.nunique, 'revenue' : 'sum'})\n",
    "orders_b_daily.columns = ['date', 'orders_per_date_b', 'revenue_per_date_b']\n",
    "\n",
    "orders_b_cummulative = orders_b_daily.apply(\n",
    "    lambda x: \\\n",
    "        orders_b_daily[orders_b_daily['date'] <= x['date']]\\\n",
    "            .agg({\n",
    "                'date' : 'max',\n",
    "                'orders_per_date_b' : 'sum',\n",
    "                'revenue_per_date_b' : 'sum'}), axis=1).sort_values(by=['date'])\n",
    "orders_b_cummulative.columns = ['date', 'orders_cummulative_b', 'revenue_cummulative_b']"
   ]
  },
  {
   "cell_type": "code",
   "execution_count": 33,
   "metadata": {
    "scrolled": true
   },
   "outputs": [
    {
     "data": {
      "text/html": [
       "<div>\n",
       "<style scoped>\n",
       "    .dataframe tbody tr th:only-of-type {\n",
       "        vertical-align: middle;\n",
       "    }\n",
       "\n",
       "    .dataframe tbody tr th {\n",
       "        vertical-align: top;\n",
       "    }\n",
       "\n",
       "    .dataframe thead th {\n",
       "        text-align: right;\n",
       "    }\n",
       "</style>\n",
       "<table border=\"1\" class=\"dataframe\">\n",
       "  <thead>\n",
       "    <tr style=\"text-align: right;\">\n",
       "      <th></th>\n",
       "      <th>date</th>\n",
       "      <th>orders_per_date_a</th>\n",
       "      <th>revenue_per_date_a</th>\n",
       "      <th>orders_per_date_b</th>\n",
       "      <th>revenue_per_date_b</th>\n",
       "      <th>orders_cummulative_a</th>\n",
       "      <th>revenue_cummulative_a</th>\n",
       "      <th>orders_cummulative_b</th>\n",
       "      <th>revenue_cummulative_b</th>\n",
       "      <th>visitors_per_date_a</th>\n",
       "      <th>visitors_per_date_b</th>\n",
       "      <th>visitors_cummulative_a</th>\n",
       "      <th>visitors_cummulative_b</th>\n",
       "    </tr>\n",
       "  </thead>\n",
       "  <tbody>\n",
       "    <tr>\n",
       "      <th>0</th>\n",
       "      <td>2019-08-01</td>\n",
       "      <td>23</td>\n",
       "      <td>142779</td>\n",
       "      <td>17</td>\n",
       "      <td>59758</td>\n",
       "      <td>23</td>\n",
       "      <td>142779</td>\n",
       "      <td>17</td>\n",
       "      <td>59758</td>\n",
       "      <td>719</td>\n",
       "      <td>713</td>\n",
       "      <td>719</td>\n",
       "      <td>713</td>\n",
       "    </tr>\n",
       "    <tr>\n",
       "      <th>1</th>\n",
       "      <td>2019-08-02</td>\n",
       "      <td>19</td>\n",
       "      <td>91602</td>\n",
       "      <td>23</td>\n",
       "      <td>162043</td>\n",
       "      <td>42</td>\n",
       "      <td>234381</td>\n",
       "      <td>40</td>\n",
       "      <td>221801</td>\n",
       "      <td>619</td>\n",
       "      <td>581</td>\n",
       "      <td>1338</td>\n",
       "      <td>1294</td>\n",
       "    </tr>\n",
       "    <tr>\n",
       "      <th>2</th>\n",
       "      <td>2019-08-03</td>\n",
       "      <td>24</td>\n",
       "      <td>112473</td>\n",
       "      <td>14</td>\n",
       "      <td>67049</td>\n",
       "      <td>66</td>\n",
       "      <td>346854</td>\n",
       "      <td>54</td>\n",
       "      <td>288850</td>\n",
       "      <td>507</td>\n",
       "      <td>509</td>\n",
       "      <td>1845</td>\n",
       "      <td>1803</td>\n",
       "    </tr>\n",
       "    <tr>\n",
       "      <th>3</th>\n",
       "      <td>2019-08-04</td>\n",
       "      <td>11</td>\n",
       "      <td>41176</td>\n",
       "      <td>14</td>\n",
       "      <td>96890</td>\n",
       "      <td>77</td>\n",
       "      <td>388030</td>\n",
       "      <td>68</td>\n",
       "      <td>385740</td>\n",
       "      <td>717</td>\n",
       "      <td>770</td>\n",
       "      <td>2562</td>\n",
       "      <td>2573</td>\n",
       "    </tr>\n",
       "    <tr>\n",
       "      <th>4</th>\n",
       "      <td>2019-08-05</td>\n",
       "      <td>22</td>\n",
       "      <td>86383</td>\n",
       "      <td>21</td>\n",
       "      <td>89908</td>\n",
       "      <td>99</td>\n",
       "      <td>474413</td>\n",
       "      <td>89</td>\n",
       "      <td>475648</td>\n",
       "      <td>756</td>\n",
       "      <td>707</td>\n",
       "      <td>3318</td>\n",
       "      <td>3280</td>\n",
       "    </tr>\n",
       "  </tbody>\n",
       "</table>\n",
       "</div>"
      ],
      "text/plain": [
       "        date  orders_per_date_a  revenue_per_date_a  orders_per_date_b  \\\n",
       "0 2019-08-01                 23              142779                 17   \n",
       "1 2019-08-02                 19               91602                 23   \n",
       "2 2019-08-03                 24              112473                 14   \n",
       "3 2019-08-04                 11               41176                 14   \n",
       "4 2019-08-05                 22               86383                 21   \n",
       "\n",
       "   revenue_per_date_b  orders_cummulative_a  revenue_cummulative_a  \\\n",
       "0               59758                    23                 142779   \n",
       "1              162043                    42                 234381   \n",
       "2               67049                    66                 346854   \n",
       "3               96890                    77                 388030   \n",
       "4               89908                    99                 474413   \n",
       "\n",
       "   orders_cummulative_b  revenue_cummulative_b  visitors_per_date_a  \\\n",
       "0                    17                  59758                  719   \n",
       "1                    40                 221801                  619   \n",
       "2                    54                 288850                  507   \n",
       "3                    68                 385740                  717   \n",
       "4                    89                 475648                  756   \n",
       "\n",
       "   visitors_per_date_b  visitors_cummulative_a  visitors_cummulative_b  \n",
       "0                  713                     719                     713  \n",
       "1                  581                    1338                    1294  \n",
       "2                  509                    1845                    1803  \n",
       "3                  770                    2562                    2573  \n",
       "4                  707                    3318                    3280  "
      ]
     },
     "execution_count": 33,
     "metadata": {},
     "output_type": "execute_result"
    }
   ],
   "source": [
    "data = orders_a_daily.merge(orders_b_daily, left_on='date', right_on='date', how='left')\\\n",
    "    .merge(orders_a_cummulative, left_on='date', right_on='date', how='left')\\\n",
    "    .merge(orders_b_cummulative, left_on='date', right_on='date', how='left')\\\n",
    "    .merge(visitors_a_daily, left_on='date', right_on='date', how='left')\\\n",
    "    .merge(visitors_b_daily, left_on='date', right_on='date', how='left')\\\n",
    "    .merge(visitors_a_cummulative, left_on='date', right_on='date', how='left')\\\n",
    "    .merge(visitors_b_cummulative, left_on='date', right_on='date', how='left')\n",
    "data.head()"
   ]
  },
  {
   "cell_type": "markdown",
   "metadata": {},
   "source": [
    "Посчитаем статистическую значимость различия в количестве заказов между группами"
   ]
  },
  {
   "cell_type": "code",
   "execution_count": 34,
   "metadata": {},
   "outputs": [],
   "source": [
    "orders_by_users_a = orders[orders['group']=='A'].groupby('visitorId', as_index=False).agg({'transactionId' : pd.Series.nunique})\n",
    "orders_by_users_a.columns = ['userId', 'orders']\n",
    "\n",
    "orders_by_users_b = orders[orders['group']=='B'].groupby('visitorId', as_index=False).agg({'transactionId' : pd.Series.nunique})\n",
    "orders_by_users_b.columns = ['userId', 'orders']"
   ]
  },
  {
   "cell_type": "code",
   "execution_count": 35,
   "metadata": {},
   "outputs": [],
   "source": [
    "sample_a = pd.concat([orders_by_users_a['orders'],pd.Series(0, index=np.arange(data['visitors_per_date_a'].sum() - len(orders_by_users_a['orders'])), name='orders')],axis=0)\n",
    "\n",
    "sample_b = pd.concat([orders_by_users_b['orders'],pd.Series(0, index=np.arange(data['visitors_per_date_b'].sum() - len(orders_by_users_b['orders'])), name='orders')],axis=0)"
   ]
  },
  {
   "cell_type": "markdown",
   "metadata": {},
   "source": [
    "Нулевая гипотеза - статистически значимых различий в количестве заказов между группами нет\n",
    "\n",
    "Альтернативная гипотеза  - статистически значимые различия есть"
   ]
  },
  {
   "cell_type": "code",
   "execution_count": 42,
   "metadata": {},
   "outputs": [
    {
     "data": {
      "text/plain": [
       "'alpha = 0.05'"
      ]
     },
     "metadata": {},
     "output_type": "display_data"
    },
    {
     "data": {
      "text/plain": [
       "'p-value = 0.011'"
      ]
     },
     "metadata": {},
     "output_type": "display_data"
    },
    {
     "data": {
      "text/plain": [
       "'относительный прирост количества заказов группы B = 0.160'"
      ]
     },
     "metadata": {},
     "output_type": "display_data"
    }
   ],
   "source": [
    "display(\"alpha = 0.05\")\n",
    "display(\"p-value = {0:.3f}\".format(st.mannwhitneyu(sample_a, sample_b, alternative = 'two-sided')[1]))\n",
    "display(\"относительный прирост количества заказов группы B = {0:.3f}\".format(sample_b.mean()/sample_a.mean()-1)) "
   ]
  },
  {
   "cell_type": "markdown",
   "metadata": {},
   "source": [
    "p-value - 0.011 меньше 0.05 \n",
    "\n",
    "Поэтому нулевую гипотезу что статистически значимых различий в количестве заказов между группами нет - отвергаем\n",
    "\n",
    "Это значит по \"сырым\" данным в количестве заказов между группами A и B есть статистически значимые различия\n",
    "\n",
    "Относительный прирост группы В к А равен 16%"
   ]
  },
  {
   "cell_type": "markdown",
   "metadata": {},
   "source": [
    "* Посчитайте статистическую значимость различий в среднем чеке заказа между группами по «сырым» данным. Сделайте выводы и предположения."
   ]
  },
  {
   "cell_type": "markdown",
   "metadata": {},
   "source": [
    "Нулевая гипотеза - статистически значимых различий в среднем чеке между группами нет\n",
    "\n",
    "Альтернативная гипотеза - статистически значимые различия есть"
   ]
  },
  {
   "cell_type": "code",
   "execution_count": 37,
   "metadata": {},
   "outputs": [
    {
     "data": {
      "text/plain": [
       "'alpha = 0.05'"
      ]
     },
     "metadata": {},
     "output_type": "display_data"
    },
    {
     "data": {
      "text/plain": [
       "'p-value = 0.829'"
      ]
     },
     "metadata": {},
     "output_type": "display_data"
    },
    {
     "data": {
      "text/plain": [
       "\"Относительный показатель 'B' и 'A' = 0.287\""
      ]
     },
     "metadata": {},
     "output_type": "display_data"
    }
   ],
   "source": [
    "display(\"alpha = 0.05\")\n",
    "display(\"p-value = {0:.3f}\".format(st.mannwhitneyu(orders[orders['group']=='A']['revenue'], orders[orders['group']=='B']['revenue'], alternative = 'two-sided')[1]))\n",
    "display(\"Относительный показатель 'B' и 'A' = {0:.3f}\".format(orders[orders['group']=='B']['revenue'].mean()/orders[orders['group']=='A']['revenue'].mean()-1)) "
   ]
  },
  {
   "cell_type": "markdown",
   "metadata": {},
   "source": [
    "p-value - 0.829 значительно больше 0.05 \n",
    "\n",
    "Можно считать что значимых различий в среднем чеке между группами нет\n",
    "\n",
    "По \"сырым\" данным средние чеки похожи\n",
    "\n",
    "При этом средний чек группы B значительно выше среднего чека группы A почти на 29%"
   ]
  },
  {
   "cell_type": "markdown",
   "metadata": {},
   "source": [
    "* Посчитайте статистическую значимость различий в среднем количестве заказов на посетителя между группами по «очищенным» данным. Сделайте выводы и предположения."
   ]
  },
  {
   "cell_type": "markdown",
   "metadata": {},
   "source": [
    "Срез пользователей\n",
    "\n",
    "с числом заказов больше 2 — usersWithManyOrders\n",
    "\n",
    "совершивших заказы дороже 53904 — usersWithExpensiveOrders"
   ]
  },
  {
   "cell_type": "code",
   "execution_count": 38,
   "metadata": {},
   "outputs": [
    {
     "data": {
      "text/plain": [
       "1099    148427295\n",
       "33      249864742\n",
       "58      611059232\n",
       "949     887908475\n",
       "744     888512513\n",
       "dtype: int64"
      ]
     },
     "metadata": {},
     "output_type": "display_data"
    },
    {
     "name": "stdout",
     "output_type": "stream",
     "text": [
      "Всего аномальных пользователей = 16\n"
     ]
    }
   ],
   "source": [
    "users_many_orders = pd.concat([orders_by_users_a[orders_by_users_a['orders'] > 2]['userId'], orders_by_users_b[orders_by_users_b['orders'] > 2]['userId']], axis = 0)\n",
    "users_expensive_orders = orders[orders['revenue'] > 53904]['visitorId']\n",
    "deviant_users = pd.concat([users_many_orders, users_expensive_orders], axis = 0).drop_duplicates().sort_values()\n",
    "display(deviant_users.head(5))\n",
    "print(\"Всего аномальных пользователей =\" ,len(deviant_users)) "
   ]
  },
  {
   "cell_type": "markdown",
   "metadata": {},
   "source": [
    "Посмотрим, как изменятся расчеты без участия аномальных пользователей"
   ]
  },
  {
   "cell_type": "code",
   "execution_count": 39,
   "metadata": {},
   "outputs": [],
   "source": [
    "a_filtered = pd.concat([orders_by_users_a[np.logical_not(orders_by_users_a['userId'].isin(deviant_users))]['orders'], \\\n",
    "                             pd.Series(0, index=np.arange(data['visitors_per_date_a'].sum() - len(orders_by_users_a['orders'])), \\\n",
    "                                       name='orders')],axis=0)\n",
    "\n",
    "b_filtered = pd.concat([orders_by_users_b[np.logical_not(orders_by_users_b['userId'].isin(deviant_users))]['orders'], \\\n",
    "                             pd.Series(0, index=np.arange(data['visitors_per_date_b'].sum() - len(orders_by_users_b['orders'])), \\\n",
    "                                       name='orders')],axis=0) "
   ]
  },
  {
   "cell_type": "markdown",
   "metadata": {},
   "source": [
    "Нулевая гипотеза - статистически значимых различий в количестве заказов между группами нет\n",
    "\n",
    "Альтернативная гипотеза - статистически значимые различия есть"
   ]
  },
  {
   "cell_type": "code",
   "execution_count": 40,
   "metadata": {},
   "outputs": [
    {
     "name": "stdout",
     "output_type": "stream",
     "text": [
      "alpha = 0.05\n",
      "p-value = 0.007\n",
      "Относительный показатель 'B' и 'A' = 0.189\n"
     ]
    }
   ],
   "source": [
    "print(\"alpha =\",0.05)\n",
    "print(\"p-value = {0:.3f}\".format(st.mannwhitneyu(a_filtered, b_filtered, alternative = 'two-sided')[1]))\n",
    "print(\"Относительный показатель 'B' и 'A' = {0:.3f}\".format(b_filtered.mean()/a_filtered.mean()-1)) "
   ]
  },
  {
   "cell_type": "markdown",
   "metadata": {},
   "source": [
    "p-value - 0.007 меньше 0.05 \n",
    "\n",
    "Нулевую гипотезу о статистически значимых различий в количестве заказов между группами нет отвергаем\n",
    "\n",
    "По \"очищенным\" данным в количестве заказов групп A и B есть статистически значимые различия \n",
    "\n",
    "А относительный выигрыш группы \"B\" над \"A\" равен почти 19% выше чем с «сырыми» данными - 16%"
   ]
  },
  {
   "cell_type": "markdown",
   "metadata": {},
   "source": [
    "* Посчитайте статистическую значимость различий в среднем чеке заказа между группами по «очищенным» данным. Сделайте выводы и предположения.\n"
   ]
  },
  {
   "cell_type": "markdown",
   "metadata": {},
   "source": [
    "Нулевая гипотеза примем - статистически значимых различий в средних чеках между группами нет\n",
    "\n",
    "Альтернативная гипотеза - статистически значимые различия есть"
   ]
  },
  {
   "cell_type": "code",
   "execution_count": 41,
   "metadata": {},
   "outputs": [
    {
     "name": "stdout",
     "output_type": "stream",
     "text": [
      "alpha = 0.05\n",
      "p-value = 0.788\n",
      "Относительный показатель В и А = -0.032\n"
     ]
    }
   ],
   "source": [
    "print(\"alpha =\",0.05)\n",
    "print(\"p-value = {0:.3f}\".format(st.mannwhitneyu(\n",
    "    orders[np.logical_and(\n",
    "        orders['group']=='A',\n",
    "        np.logical_not(orders['visitorId'].isin(deviant_users)))]['revenue'],\n",
    "    orders[np.logical_and(\n",
    "        orders['group']=='B',\n",
    "        np.logical_not(orders['visitorId'].isin(deviant_users)))]['revenue'], alternative = 'two-sided')[1]))\n",
    "\n",
    "print(\"Относительный показатель В и А = {0:.3f}\".format(\n",
    "    orders[np.logical_and(orders['group']=='B',np.logical_not(orders['visitorId'].isin(deviant_users)))]['revenue'].mean()/\n",
    "    orders[np.logical_and(\n",
    "        orders['group']=='A',\n",
    "        np.logical_not(orders['visitorId'].isin(deviant_users)))]['revenue'].mean() - 1)) "
   ]
  },
  {
   "cell_type": "markdown",
   "metadata": {},
   "source": [
    "p-value - 0.788 значительно больше 0.05\n",
    "\n",
    "Можно считать что в среднем чеке нет различий как и с \"сырыми\" данными\n",
    "\n",
    "Средний чек группы B оказался незначительно ниже среднего чека группы A в то время как по \"сырым\" данным он был больше почти на 29%"
   ]
  },
  {
   "cell_type": "markdown",
   "metadata": {},
   "source": [
    "* Примите решение по результатам теста и объясните его. Варианты решений:\n",
    "1. Остановить тест, зафиксировать победу одной из групп.\n",
    "2. Остановить тест, зафиксировать отсутствие различий между группами.\n",
    "3. Продолжить тест."
   ]
  },
  {
   "cell_type": "markdown",
   "metadata": {},
   "source": [
    "Мы выяснили что у группы В количество заказов выше на 19% по \"очищенным\" данным и на 16% по \"сырым\" \n",
    "\n",
    "Средние чеки групп по \"очищенным данным\" примерно одинаковые\n",
    "\n",
    "Основываясь на результатах проведенного А/В теста сотит остановить тест и зафиксировать победу группы В по показателю количеству заказов \n",
    "\n",
    "Отделу маркетинга стоит начать работу по стимуляции к увеличению среднего чека"
   ]
  }
 ],
 "metadata": {
  "ExecuteTimeLog": [
   {
    "duration": 1404,
    "start_time": "2023-02-08T13:28:31.507Z"
   },
   {
    "duration": 4,
    "start_time": "2023-02-08T13:29:42.402Z"
   },
   {
    "duration": 4,
    "start_time": "2023-02-08T13:29:45.751Z"
   },
   {
    "duration": 4,
    "start_time": "2023-02-08T13:29:53.261Z"
   },
   {
    "duration": 120,
    "start_time": "2023-02-08T13:30:18.853Z"
   },
   {
    "duration": 3,
    "start_time": "2023-02-08T13:30:20.571Z"
   },
   {
    "duration": 25,
    "start_time": "2023-02-08T13:30:21.759Z"
   },
   {
    "duration": 4,
    "start_time": "2023-02-08T13:31:02.996Z"
   },
   {
    "duration": 24,
    "start_time": "2023-02-08T13:31:03.341Z"
   },
   {
    "duration": 14,
    "start_time": "2023-02-08T13:35:29.595Z"
   },
   {
    "duration": 9,
    "start_time": "2023-02-08T13:35:33.737Z"
   },
   {
    "duration": 70,
    "start_time": "2023-02-08T13:36:07.304Z"
   },
   {
    "duration": 16,
    "start_time": "2023-02-08T13:36:17.053Z"
   },
   {
    "duration": 91,
    "start_time": "2023-02-08T13:36:57.194Z"
   },
   {
    "duration": 200,
    "start_time": "2023-02-08T13:37:06.968Z"
   },
   {
    "duration": 106,
    "start_time": "2023-02-08T13:37:12.080Z"
   },
   {
    "duration": 148,
    "start_time": "2023-02-08T13:41:12.344Z"
   },
   {
    "duration": 3,
    "start_time": "2023-02-08T13:41:28.229Z"
   },
   {
    "duration": 90,
    "start_time": "2023-02-08T13:41:30.401Z"
   },
   {
    "duration": 3,
    "start_time": "2023-02-08T13:42:27.464Z"
   },
   {
    "duration": 5,
    "start_time": "2023-02-08T13:42:36.448Z"
   },
   {
    "duration": 5,
    "start_time": "2023-02-08T13:42:50.953Z"
   },
   {
    "duration": 3,
    "start_time": "2023-02-08T13:42:58.052Z"
   },
   {
    "duration": 4,
    "start_time": "2023-02-08T13:43:33.609Z"
   },
   {
    "duration": 6,
    "start_time": "2023-02-08T13:43:39.793Z"
   },
   {
    "duration": 4,
    "start_time": "2023-02-08T13:43:45.652Z"
   },
   {
    "duration": 13,
    "start_time": "2023-02-08T13:44:00.872Z"
   },
   {
    "duration": 364,
    "start_time": "2023-02-08T13:44:10.458Z"
   },
   {
    "duration": 3,
    "start_time": "2023-02-08T13:44:31.363Z"
   },
   {
    "duration": 69,
    "start_time": "2023-02-08T13:44:31.508Z"
   },
   {
    "duration": 106,
    "start_time": "2023-02-08T13:44:31.653Z"
   },
   {
    "duration": 3,
    "start_time": "2023-02-08T13:44:31.791Z"
   },
   {
    "duration": 4,
    "start_time": "2023-02-08T13:44:31.925Z"
   },
   {
    "duration": 3,
    "start_time": "2023-02-08T13:44:32.055Z"
   },
   {
    "duration": 5,
    "start_time": "2023-02-08T13:44:32.522Z"
   },
   {
    "duration": 12,
    "start_time": "2023-02-08T13:44:33.149Z"
   },
   {
    "duration": 6,
    "start_time": "2023-02-08T13:44:49.424Z"
   },
   {
    "duration": 10,
    "start_time": "2023-02-08T13:48:41.526Z"
   },
   {
    "duration": 4,
    "start_time": "2023-02-08T13:48:44.408Z"
   },
   {
    "duration": 18,
    "start_time": "2023-02-08T13:48:53.117Z"
   },
   {
    "duration": 14,
    "start_time": "2023-02-08T13:50:04.576Z"
   },
   {
    "duration": 12,
    "start_time": "2023-02-08T13:58:46.136Z"
   },
   {
    "duration": 3,
    "start_time": "2023-02-08T14:05:06.074Z"
   },
   {
    "duration": 9,
    "start_time": "2023-02-08T14:10:27.318Z"
   },
   {
    "duration": 8,
    "start_time": "2023-02-08T14:10:32.494Z"
   },
   {
    "duration": 11,
    "start_time": "2023-02-08T14:11:22.880Z"
   },
   {
    "duration": 4,
    "start_time": "2023-02-08T14:11:48.357Z"
   },
   {
    "duration": 5,
    "start_time": "2023-02-08T14:12:13.466Z"
   },
   {
    "duration": 5,
    "start_time": "2023-02-08T14:12:22.446Z"
   },
   {
    "duration": 13,
    "start_time": "2023-02-08T14:12:29.907Z"
   },
   {
    "duration": 354,
    "start_time": "2023-02-08T14:14:38.955Z"
   },
   {
    "duration": 337,
    "start_time": "2023-02-08T14:15:25.291Z"
   },
   {
    "duration": 231,
    "start_time": "2023-02-08T14:15:40.385Z"
   },
   {
    "duration": 237,
    "start_time": "2023-02-08T14:15:46.288Z"
   },
   {
    "duration": 239,
    "start_time": "2023-02-08T14:16:00.212Z"
   },
   {
    "duration": 238,
    "start_time": "2023-02-08T14:16:47.908Z"
   },
   {
    "duration": 232,
    "start_time": "2023-02-08T14:20:16.230Z"
   },
   {
    "duration": 322,
    "start_time": "2023-02-08T14:20:22.049Z"
   },
   {
    "duration": 405,
    "start_time": "2023-02-08T14:22:26.807Z"
   },
   {
    "duration": 233,
    "start_time": "2023-02-08T14:22:53.192Z"
   },
   {
    "duration": 315,
    "start_time": "2023-02-08T14:23:29.402Z"
   },
   {
    "duration": 359,
    "start_time": "2023-02-08T14:36:37.833Z"
   },
   {
    "duration": 255,
    "start_time": "2023-02-08T14:36:58.188Z"
   },
   {
    "duration": 242,
    "start_time": "2023-02-08T14:37:34.425Z"
   },
   {
    "duration": 10,
    "start_time": "2023-02-08T14:41:51.898Z"
   },
   {
    "duration": 5,
    "start_time": "2023-02-08T14:41:54.216Z"
   },
   {
    "duration": 13,
    "start_time": "2023-02-08T14:42:54.825Z"
   },
   {
    "duration": 11,
    "start_time": "2023-02-08T14:43:06.332Z"
   },
   {
    "duration": 10,
    "start_time": "2023-02-08T14:43:10.205Z"
   },
   {
    "duration": 8,
    "start_time": "2023-02-08T14:43:14.386Z"
   },
   {
    "duration": 9,
    "start_time": "2023-02-08T14:43:52.083Z"
   },
   {
    "duration": 5,
    "start_time": "2023-02-08T14:43:52.761Z"
   },
   {
    "duration": 10,
    "start_time": "2023-02-08T14:43:53.179Z"
   },
   {
    "duration": 312,
    "start_time": "2023-02-08T14:44:23.953Z"
   },
   {
    "duration": 291,
    "start_time": "2023-02-08T14:45:12.221Z"
   },
   {
    "duration": 318,
    "start_time": "2023-02-08T14:45:26.631Z"
   },
   {
    "duration": 249,
    "start_time": "2023-02-08T14:46:10.020Z"
   },
   {
    "duration": 243,
    "start_time": "2023-02-08T14:46:31.671Z"
   },
   {
    "duration": 365,
    "start_time": "2023-02-08T14:47:14.731Z"
   },
   {
    "duration": 257,
    "start_time": "2023-02-08T14:54:41.625Z"
   },
   {
    "duration": 341,
    "start_time": "2023-02-08T14:55:10.385Z"
   },
   {
    "duration": 265,
    "start_time": "2023-02-08T14:55:20.691Z"
   },
   {
    "duration": 262,
    "start_time": "2023-02-08T14:55:42.529Z"
   },
   {
    "duration": 248,
    "start_time": "2023-02-08T14:56:05.209Z"
   },
   {
    "duration": 262,
    "start_time": "2023-02-08T14:56:12.531Z"
   },
   {
    "duration": 231,
    "start_time": "2023-02-08T14:56:21.382Z"
   },
   {
    "duration": 272,
    "start_time": "2023-02-08T14:56:27.429Z"
   },
   {
    "duration": 264,
    "start_time": "2023-02-08T14:56:33.163Z"
   },
   {
    "duration": 269,
    "start_time": "2023-02-08T14:56:43.319Z"
   },
   {
    "duration": 76,
    "start_time": "2023-02-08T14:58:54.060Z"
   },
   {
    "duration": 13,
    "start_time": "2023-02-08T15:02:23.217Z"
   },
   {
    "duration": 15,
    "start_time": "2023-02-08T15:02:56.921Z"
   },
   {
    "duration": 252,
    "start_time": "2023-02-08T15:03:12.634Z"
   },
   {
    "duration": 391,
    "start_time": "2023-02-08T15:25:56.618Z"
   },
   {
    "duration": 469,
    "start_time": "2023-02-08T15:26:08.457Z"
   },
   {
    "duration": 404,
    "start_time": "2023-02-08T15:26:33.800Z"
   },
   {
    "duration": 416,
    "start_time": "2023-02-08T15:27:18.797Z"
   },
   {
    "duration": 290,
    "start_time": "2023-02-08T15:29:15.341Z"
   },
   {
    "duration": 267,
    "start_time": "2023-02-08T15:29:32.321Z"
   },
   {
    "duration": 317,
    "start_time": "2023-02-08T15:29:47.255Z"
   },
   {
    "duration": 339,
    "start_time": "2023-02-08T15:30:17.958Z"
   },
   {
    "duration": 9,
    "start_time": "2023-02-08T15:32:48.892Z"
   },
   {
    "duration": 4,
    "start_time": "2023-02-08T15:32:59.106Z"
   },
   {
    "duration": 177,
    "start_time": "2023-02-08T15:34:13.885Z"
   },
   {
    "duration": 5,
    "start_time": "2023-02-08T15:34:50.125Z"
   },
   {
    "duration": 6,
    "start_time": "2023-02-08T15:34:52.546Z"
   },
   {
    "duration": 169,
    "start_time": "2023-02-08T15:35:10.128Z"
   },
   {
    "duration": 6,
    "start_time": "2023-02-08T15:35:15.169Z"
   },
   {
    "duration": 169,
    "start_time": "2023-02-08T15:35:15.673Z"
   },
   {
    "duration": 213,
    "start_time": "2023-02-08T15:36:00.840Z"
   },
   {
    "duration": 6,
    "start_time": "2023-02-08T15:36:35.756Z"
   },
   {
    "duration": 106,
    "start_time": "2023-02-08T15:39:32.300Z"
   },
   {
    "duration": 70,
    "start_time": "2023-02-08T15:40:21.065Z"
   },
   {
    "duration": 103,
    "start_time": "2023-02-08T15:40:43.028Z"
   },
   {
    "duration": 19,
    "start_time": "2023-02-08T15:43:20.161Z"
   },
   {
    "duration": 129,
    "start_time": "2023-02-08T15:43:37.319Z"
   },
   {
    "duration": 96,
    "start_time": "2023-02-08T15:45:10.697Z"
   },
   {
    "duration": 121,
    "start_time": "2023-02-08T15:46:09.954Z"
   },
   {
    "duration": 39,
    "start_time": "2023-02-08T15:47:19.419Z"
   },
   {
    "duration": 144,
    "start_time": "2023-02-08T15:48:32.682Z"
   },
   {
    "duration": 15,
    "start_time": "2023-02-08T16:22:36.645Z"
   },
   {
    "duration": 7,
    "start_time": "2023-02-08T16:22:53.084Z"
   },
   {
    "duration": 17,
    "start_time": "2023-02-08T16:23:06.161Z"
   },
   {
    "duration": 37,
    "start_time": "2023-02-08T16:23:25.668Z"
   },
   {
    "duration": 14,
    "start_time": "2023-02-08T17:49:51.456Z"
   },
   {
    "duration": 11,
    "start_time": "2023-02-08T17:51:34.546Z"
   },
   {
    "duration": 11,
    "start_time": "2023-02-08T17:52:14.167Z"
   },
   {
    "duration": 11,
    "start_time": "2023-02-08T17:53:55.100Z"
   },
   {
    "duration": 10,
    "start_time": "2023-02-08T17:56:30.936Z"
   },
   {
    "duration": 26,
    "start_time": "2023-02-08T17:57:52.367Z"
   },
   {
    "duration": 15,
    "start_time": "2023-02-08T18:00:54.564Z"
   },
   {
    "duration": 1194,
    "start_time": "2023-02-08T18:03:39.485Z"
   },
   {
    "duration": 70,
    "start_time": "2023-02-08T18:03:40.681Z"
   },
   {
    "duration": 125,
    "start_time": "2023-02-08T18:03:40.753Z"
   },
   {
    "duration": 3,
    "start_time": "2023-02-08T18:03:40.880Z"
   },
   {
    "duration": 10,
    "start_time": "2023-02-08T18:03:40.886Z"
   },
   {
    "duration": 4,
    "start_time": "2023-02-08T18:03:40.898Z"
   },
   {
    "duration": 6,
    "start_time": "2023-02-08T18:03:40.940Z"
   },
   {
    "duration": 14,
    "start_time": "2023-02-08T18:03:40.948Z"
   },
   {
    "duration": 17,
    "start_time": "2023-02-08T18:03:40.964Z"
   },
   {
    "duration": 7,
    "start_time": "2023-02-08T18:03:40.982Z"
   },
   {
    "duration": 33,
    "start_time": "2023-02-08T18:03:40.990Z"
   },
   {
    "duration": 22,
    "start_time": "2023-02-08T18:03:41.024Z"
   },
   {
    "duration": 31,
    "start_time": "2023-02-08T18:03:41.048Z"
   },
   {
    "duration": 11,
    "start_time": "2023-02-08T18:03:41.082Z"
   },
   {
    "duration": 13,
    "start_time": "2023-02-08T18:03:41.094Z"
   },
   {
    "duration": 14,
    "start_time": "2023-02-08T18:03:41.109Z"
   },
   {
    "duration": 10,
    "start_time": "2023-02-08T18:03:41.125Z"
   },
   {
    "duration": 17,
    "start_time": "2023-02-08T18:03:41.137Z"
   },
   {
    "duration": 325,
    "start_time": "2023-02-08T18:03:41.156Z"
   },
   {
    "duration": 332,
    "start_time": "2023-02-08T18:03:41.482Z"
   },
   {
    "duration": 251,
    "start_time": "2023-02-08T18:03:41.816Z"
   },
   {
    "duration": 313,
    "start_time": "2023-02-08T18:03:42.068Z"
   },
   {
    "duration": 261,
    "start_time": "2023-02-08T18:03:42.383Z"
   },
   {
    "duration": 391,
    "start_time": "2023-02-08T18:03:42.646Z"
   },
   {
    "duration": 348,
    "start_time": "2023-02-08T18:03:43.039Z"
   },
   {
    "duration": 5,
    "start_time": "2023-02-08T18:03:43.389Z"
   },
   {
    "duration": 230,
    "start_time": "2023-02-08T18:03:43.396Z"
   },
   {
    "duration": 12,
    "start_time": "2023-02-08T18:03:43.629Z"
   },
   {
    "duration": 265,
    "start_time": "2023-02-08T18:03:43.643Z"
   },
   {
    "duration": 6,
    "start_time": "2023-02-08T18:03:43.910Z"
   },
   {
    "duration": 104,
    "start_time": "2023-02-08T18:03:43.917Z"
   },
   {
    "duration": 137,
    "start_time": "2023-02-08T18:03:44.023Z"
   },
   {
    "duration": 29,
    "start_time": "2023-02-08T18:03:44.162Z"
   },
   {
    "duration": 139,
    "start_time": "2023-02-08T18:03:44.193Z"
   },
   {
    "duration": 9,
    "start_time": "2023-02-08T18:03:44.334Z"
   },
   {
    "duration": 28,
    "start_time": "2023-02-08T18:03:44.345Z"
   },
   {
    "duration": 14,
    "start_time": "2023-02-08T18:03:44.374Z"
   },
   {
    "duration": 50,
    "start_time": "2023-02-08T18:03:44.389Z"
   },
   {
    "duration": 9,
    "start_time": "2023-02-08T18:03:44.441Z"
   },
   {
    "duration": 31,
    "start_time": "2023-02-08T18:03:44.452Z"
   },
   {
    "duration": 15,
    "start_time": "2023-02-08T18:03:44.487Z"
   },
   {
    "duration": 1252,
    "start_time": "2023-02-08T18:04:44.711Z"
   },
   {
    "duration": 66,
    "start_time": "2023-02-08T18:04:45.965Z"
   },
   {
    "duration": 112,
    "start_time": "2023-02-08T18:04:46.035Z"
   },
   {
    "duration": 3,
    "start_time": "2023-02-08T18:04:46.149Z"
   },
   {
    "duration": 8,
    "start_time": "2023-02-08T18:04:46.154Z"
   },
   {
    "duration": 4,
    "start_time": "2023-02-08T18:04:46.164Z"
   },
   {
    "duration": 6,
    "start_time": "2023-02-08T18:04:46.170Z"
   },
   {
    "duration": 14,
    "start_time": "2023-02-08T18:04:46.178Z"
   },
   {
    "duration": 6,
    "start_time": "2023-02-08T18:04:46.194Z"
   },
   {
    "duration": 3,
    "start_time": "2023-02-08T18:04:46.202Z"
   },
   {
    "duration": 14,
    "start_time": "2023-02-08T18:04:46.240Z"
   },
   {
    "duration": 13,
    "start_time": "2023-02-08T18:04:46.255Z"
   },
   {
    "duration": 9,
    "start_time": "2023-02-08T18:04:46.270Z"
   },
   {
    "duration": 11,
    "start_time": "2023-02-08T18:04:46.281Z"
   },
   {
    "duration": 9,
    "start_time": "2023-02-08T18:04:46.293Z"
   },
   {
    "duration": 41,
    "start_time": "2023-02-08T18:04:46.303Z"
   },
   {
    "duration": 4,
    "start_time": "2023-02-08T18:04:46.346Z"
   },
   {
    "duration": 11,
    "start_time": "2023-02-08T18:04:46.352Z"
   },
   {
    "duration": 367,
    "start_time": "2023-02-08T18:04:46.364Z"
   },
   {
    "duration": 333,
    "start_time": "2023-02-08T18:04:46.741Z"
   },
   {
    "duration": 250,
    "start_time": "2023-02-08T18:04:47.076Z"
   },
   {
    "duration": 338,
    "start_time": "2023-02-08T18:04:47.328Z"
   },
   {
    "duration": 266,
    "start_time": "2023-02-08T18:04:47.668Z"
   },
   {
    "duration": 396,
    "start_time": "2023-02-08T18:04:47.940Z"
   },
   {
    "duration": 329,
    "start_time": "2023-02-08T18:04:48.340Z"
   },
   {
    "duration": 4,
    "start_time": "2023-02-08T18:04:48.671Z"
   },
   {
    "duration": 191,
    "start_time": "2023-02-08T18:04:48.677Z"
   },
   {
    "duration": 6,
    "start_time": "2023-02-08T18:04:48.870Z"
   },
   {
    "duration": 257,
    "start_time": "2023-02-08T18:04:48.878Z"
   },
   {
    "duration": 5,
    "start_time": "2023-02-08T18:04:49.141Z"
   },
   {
    "duration": 118,
    "start_time": "2023-02-08T18:04:49.148Z"
   },
   {
    "duration": 118,
    "start_time": "2023-02-08T18:04:49.268Z"
   },
   {
    "duration": 30,
    "start_time": "2023-02-08T18:04:49.388Z"
   },
   {
    "duration": 159,
    "start_time": "2023-02-08T18:04:49.421Z"
   },
   {
    "duration": 8,
    "start_time": "2023-02-08T18:04:49.582Z"
   },
   {
    "duration": 40,
    "start_time": "2023-02-08T18:04:49.592Z"
   },
   {
    "duration": 14,
    "start_time": "2023-02-08T18:04:49.641Z"
   },
   {
    "duration": 10,
    "start_time": "2023-02-08T18:04:49.657Z"
   },
   {
    "duration": 8,
    "start_time": "2023-02-08T18:04:49.669Z"
   },
   {
    "duration": 25,
    "start_time": "2023-02-08T18:04:49.681Z"
   },
   {
    "duration": 44,
    "start_time": "2023-02-08T18:04:49.708Z"
   },
   {
    "duration": 49,
    "start_time": "2023-02-09T11:19:23.846Z"
   },
   {
    "duration": 1173,
    "start_time": "2023-02-09T11:19:29.087Z"
   },
   {
    "duration": 256,
    "start_time": "2023-02-09T11:19:30.262Z"
   },
   {
    "duration": 80,
    "start_time": "2023-02-09T11:19:30.520Z"
   },
   {
    "duration": 47,
    "start_time": "2023-02-09T11:19:30.602Z"
   },
   {
    "duration": 35,
    "start_time": "2023-02-09T11:19:30.650Z"
   },
   {
    "duration": 12,
    "start_time": "2023-02-09T11:19:30.687Z"
   },
   {
    "duration": 18,
    "start_time": "2023-02-09T11:19:30.701Z"
   },
   {
    "duration": 99,
    "start_time": "2023-02-09T11:19:30.720Z"
   },
   {
    "duration": 46,
    "start_time": "2023-02-09T11:19:30.821Z"
   },
   {
    "duration": 24,
    "start_time": "2023-02-09T11:19:30.869Z"
   },
   {
    "duration": 46,
    "start_time": "2023-02-09T11:19:30.894Z"
   },
   {
    "duration": 15,
    "start_time": "2023-02-09T11:19:30.942Z"
   },
   {
    "duration": 13,
    "start_time": "2023-02-09T11:19:30.959Z"
   },
   {
    "duration": 11,
    "start_time": "2023-02-09T11:19:30.974Z"
   },
   {
    "duration": 40,
    "start_time": "2023-02-09T11:19:30.987Z"
   },
   {
    "duration": 22,
    "start_time": "2023-02-09T11:19:31.029Z"
   },
   {
    "duration": 13,
    "start_time": "2023-02-09T11:19:31.053Z"
   },
   {
    "duration": 13,
    "start_time": "2023-02-09T11:19:31.067Z"
   },
   {
    "duration": 279,
    "start_time": "2023-02-09T11:19:31.082Z"
   },
   {
    "duration": 286,
    "start_time": "2023-02-09T11:19:31.362Z"
   },
   {
    "duration": 208,
    "start_time": "2023-02-09T11:19:31.649Z"
   },
   {
    "duration": 336,
    "start_time": "2023-02-09T11:19:31.858Z"
   },
   {
    "duration": 221,
    "start_time": "2023-02-09T11:19:32.196Z"
   },
   {
    "duration": 375,
    "start_time": "2023-02-09T11:19:32.418Z"
   },
   {
    "duration": 311,
    "start_time": "2023-02-09T11:19:32.795Z"
   },
   {
    "duration": 4,
    "start_time": "2023-02-09T11:19:33.107Z"
   },
   {
    "duration": 170,
    "start_time": "2023-02-09T11:19:33.114Z"
   },
   {
    "duration": 5,
    "start_time": "2023-02-09T11:19:33.286Z"
   },
   {
    "duration": 227,
    "start_time": "2023-02-09T11:19:33.293Z"
   },
   {
    "duration": 4,
    "start_time": "2023-02-09T11:19:33.522Z"
   },
   {
    "duration": 91,
    "start_time": "2023-02-09T11:19:33.527Z"
   },
   {
    "duration": 105,
    "start_time": "2023-02-09T11:19:33.619Z"
   },
   {
    "duration": 31,
    "start_time": "2023-02-09T11:19:33.725Z"
   },
   {
    "duration": 115,
    "start_time": "2023-02-09T11:19:33.757Z"
   },
   {
    "duration": 5,
    "start_time": "2023-02-09T11:19:33.874Z"
   },
   {
    "duration": 45,
    "start_time": "2023-02-09T11:19:33.880Z"
   },
   {
    "duration": 14,
    "start_time": "2023-02-09T11:19:33.927Z"
   },
   {
    "duration": 17,
    "start_time": "2023-02-09T11:19:33.942Z"
   },
   {
    "duration": 25,
    "start_time": "2023-02-09T11:19:33.960Z"
   },
   {
    "duration": 43,
    "start_time": "2023-02-09T11:19:33.987Z"
   },
   {
    "duration": 17,
    "start_time": "2023-02-09T11:19:34.031Z"
   },
   {
    "duration": 24,
    "start_time": "2023-02-09T11:37:54.579Z"
   },
   {
    "duration": 353,
    "start_time": "2023-02-09T11:41:22.633Z"
   }
  ],
  "kernelspec": {
   "display_name": "Python 3 (ipykernel)",
   "language": "python",
   "name": "python3"
  },
  "language_info": {
   "codemirror_mode": {
    "name": "ipython",
    "version": 3
   },
   "file_extension": ".py",
   "mimetype": "text/x-python",
   "name": "python",
   "nbconvert_exporter": "python",
   "pygments_lexer": "ipython3",
   "version": "3.9.12"
  },
  "toc": {
   "base_numbering": 1,
   "nav_menu": {},
   "number_sections": true,
   "sideBar": true,
   "skip_h1_title": true,
   "title_cell": "Table of Contents",
   "title_sidebar": "Contents",
   "toc_cell": false,
   "toc_position": {},
   "toc_section_display": true,
   "toc_window_display": false
  }
 },
 "nbformat": 4,
 "nbformat_minor": 2
}
